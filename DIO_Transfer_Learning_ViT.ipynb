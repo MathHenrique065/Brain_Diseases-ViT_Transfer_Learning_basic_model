{
  "nbformat": 4,
  "nbformat_minor": 0,
  "metadata": {
    "colab": {
      "provenance": [],
      "include_colab_link": true
    },
    "kernelspec": {
      "name": "python3",
      "display_name": "Python 3"
    },
    "accelerator": "GPU"
  },
  "cells": [
    {
      "cell_type": "markdown",
      "metadata": {
        "id": "view-in-github",
        "colab_type": "text"
      },
      "source": [
        "<a href=\"https://colab.research.google.com/github/MathHenrique065/Brain_Diseases-ViT_Transfer_Learning_basic_model/blob/main/DIO_Transfer_Learning_ViT.ipynb\" target=\"_parent\"><img src=\"https://colab.research.google.com/assets/colab-badge.svg\" alt=\"Open In Colab\"/></a>"
      ]
    },
    {
      "cell_type": "markdown",
      "source": [
        "# Transfer Learning Project\n",
        "\n",
        "# Dataset: Detecting Alzheimer's and Parkinson Disease"
      ],
      "metadata": {
        "id": "qS2OEs5tbaHR"
      }
    },
    {
      "metadata": {
        "id": "3p-OjhDPYoZm"
      },
      "cell_type": "code",
      "source": [
        "%matplotlib inline\n",
        "import numpy as np\n",
        "import keras\n",
        "import tensorflow.keras as tf\n",
        "import pandas as pd\n",
        "\n",
        "import os\n",
        "import zipfile\n",
        "import shutil\n",
        "import random\n",
        "#if using Theano with GPU\n",
        "#os.environ[\"KERAS_BACKEND\"] = \"tensorflow\"\n",
        "\n",
        "\n",
        "\n",
        "\n",
        "from sklearn.model_selection import train_test_split\n",
        "import matplotlib.pyplot as plt\n",
        "from matplotlib.pyplot import imshow\n",
        "\n",
        "\n",
        "\n",
        "from tensorflow.keras.preprocessing.image import ImageDataGenerator\n",
        "from keras.preprocessing import image\n",
        "from keras.applications.imagenet_utils import preprocess_input\n",
        "from keras.models import Sequential\n",
        "from keras.layers import Dense, Dropout, Flatten, Activation,   GlobalAveragePooling2D, Conv2D, MaxPooling2D\n",
        "from keras.models import Model"
      ],
      "execution_count": 1,
      "outputs": []
    },
    {
      "cell_type": "code",
      "source": [],
      "metadata": {
        "id": "k0rAS-JqbND1"
      },
      "execution_count": 107,
      "outputs": []
    },
    {
      "cell_type": "markdown",
      "source": [
        "## Extracting the Dataset"
      ],
      "metadata": {
        "id": "o4ZkiIHpjDkx"
      }
    },
    {
      "cell_type": "code",
      "source": [
        "!pip install opendatasets"
      ],
      "metadata": {
        "colab": {
          "base_uri": "https://localhost:8080/"
        },
        "id": "_5nxLjKRj-ry",
        "outputId": "e0e2ce30-608d-4c94-8e2a-5482c51d7f56"
      },
      "execution_count": 2,
      "outputs": [
        {
          "output_type": "stream",
          "name": "stdout",
          "text": [
            "Requirement already satisfied: opendatasets in /usr/local/lib/python3.10/dist-packages (0.1.22)\n",
            "Requirement already satisfied: tqdm in /usr/local/lib/python3.10/dist-packages (from opendatasets) (4.66.1)\n",
            "Requirement already satisfied: kaggle in /usr/local/lib/python3.10/dist-packages (from opendatasets) (1.5.16)\n",
            "Requirement already satisfied: click in /usr/local/lib/python3.10/dist-packages (from opendatasets) (8.1.7)\n",
            "Requirement already satisfied: six>=1.10 in /usr/local/lib/python3.10/dist-packages (from kaggle->opendatasets) (1.16.0)\n",
            "Requirement already satisfied: certifi in /usr/local/lib/python3.10/dist-packages (from kaggle->opendatasets) (2023.11.17)\n",
            "Requirement already satisfied: python-dateutil in /usr/local/lib/python3.10/dist-packages (from kaggle->opendatasets) (2.8.2)\n",
            "Requirement already satisfied: requests in /usr/local/lib/python3.10/dist-packages (from kaggle->opendatasets) (2.31.0)\n",
            "Requirement already satisfied: python-slugify in /usr/local/lib/python3.10/dist-packages (from kaggle->opendatasets) (8.0.3)\n",
            "Requirement already satisfied: urllib3 in /usr/local/lib/python3.10/dist-packages (from kaggle->opendatasets) (2.0.7)\n",
            "Requirement already satisfied: bleach in /usr/local/lib/python3.10/dist-packages (from kaggle->opendatasets) (6.1.0)\n",
            "Requirement already satisfied: webencodings in /usr/local/lib/python3.10/dist-packages (from bleach->kaggle->opendatasets) (0.5.1)\n",
            "Requirement already satisfied: text-unidecode>=1.3 in /usr/local/lib/python3.10/dist-packages (from python-slugify->kaggle->opendatasets) (1.3)\n",
            "Requirement already satisfied: charset-normalizer<4,>=2 in /usr/local/lib/python3.10/dist-packages (from requests->kaggle->opendatasets) (3.3.2)\n",
            "Requirement already satisfied: idna<4,>=2.5 in /usr/local/lib/python3.10/dist-packages (from requests->kaggle->opendatasets) (3.6)\n"
          ]
        }
      ]
    },
    {
      "cell_type": "code",
      "source": [
        "import opendatasets as od"
      ],
      "metadata": {
        "id": "JCbYKGEyjVEG"
      },
      "execution_count": 3,
      "outputs": []
    },
    {
      "cell_type": "code",
      "source": [
        "od.download(\"https://www.kaggle.com/datasets/farjanakabirsamanta/alzheimer-diseases-3-class\")"
      ],
      "metadata": {
        "colab": {
          "base_uri": "https://localhost:8080/"
        },
        "id": "dgGdyB_cj0Py",
        "outputId": "600ec3e5-c745-42b9-b23a-d984a7098b43"
      },
      "execution_count": 4,
      "outputs": [
        {
          "output_type": "stream",
          "name": "stdout",
          "text": [
            "Skipping, found downloaded files in \"./alzheimer-diseases-3-class\" (use force=True to force download)\n"
          ]
        }
      ]
    },
    {
      "cell_type": "markdown",
      "source": [
        "## Separating in Folders"
      ],
      "metadata": {
        "id": "qh4cJ7O3cfYm"
      }
    },
    {
      "cell_type": "code",
      "source": [
        "\n",
        "# Caminho para o diretório baixado\n",
        "downloaded_folder_path = '/content/alzheimer-diseases-3-class'\n",
        "\n",
        "# Caminho para o diretório de saída para o pré-processamento\n",
        "output_folder_path = '/content/preprocessed_data'\n",
        "\n",
        "# Defina class labels\n",
        "class_labels = ['CONTROL', 'AD', 'PD']\n",
        "\n",
        "# Crie pastas de saída para conjuntos de treinamento, validação e teste\n",
        "for label in class_labels:\n",
        "    os.makedirs(os.path.join(output_folder_path, 'train', label), exist_ok=True)\n",
        "    os.makedirs(os.path.join(output_folder_path, 'val', label), exist_ok=True)\n",
        "    os.makedirs(os.path.join(output_folder_path, 'test', label), exist_ok=True)\n",
        "\n",
        "# Divida os dados em conjuntos de treinamento, validação e teste\n",
        "for label in class_labels:\n",
        "    image_folder = os.path.join(downloaded_folder_path, '3_cls/train', label)\n",
        "    images = os.listdir(image_folder)\n",
        "    train_images, test_images = train_test_split(images, test_size=0.2, random_state=42)\n",
        "    train_images, val_images = train_test_split(train_images, test_size=0.2, random_state=42)\n",
        "\n",
        "    # Copie as imagens para as pastas correspondentes\n",
        "    for image in train_images:\n",
        "        shutil.copy(os.path.join(image_folder, image), os.path.join(output_folder_path, 'train', label))\n",
        "    for image in val_images:\n",
        "        shutil.copy(os.path.join(image_folder, image), os.path.join(output_folder_path, 'val', label))\n",
        "    for image in test_images:\n",
        "        shutil.copy(os.path.join(image_folder, image), os.path.join(output_folder_path, 'test', label))\n",
        "\n"
      ],
      "metadata": {
        "id": "bV1_FiYMcdpl"
      },
      "execution_count": 5,
      "outputs": []
    },
    {
      "cell_type": "code",
      "source": [],
      "metadata": {
        "id": "pJnfIv1rmBme"
      },
      "execution_count": 5,
      "outputs": []
    },
    {
      "cell_type": "markdown",
      "source": [
        "## Data Generators"
      ],
      "metadata": {
        "id": "13c5WtXqciox"
      }
    },
    {
      "cell_type": "code",
      "source": [
        "# Set up data generators\n",
        "train_datagen = ImageDataGenerator(\n",
        "    rescale=1./255,\n",
        "    shear_range=0.2,\n",
        "    zoom_range=0.2,\n",
        "    horizontal_flip=True\n",
        ")\n",
        "\n",
        "val_datagen = ImageDataGenerator(rescale=1./255)\n"
      ],
      "metadata": {
        "id": "oJdarG74bXvM"
      },
      "execution_count": 74,
      "outputs": []
    },
    {
      "cell_type": "code",
      "source": [
        "\n",
        "train_generator = train_datagen.flow_from_directory(\n",
        "    os.path.join(output_folder_path, 'train'),\n",
        "    target_size=(224, 224),\n",
        "    batch_size=32,\n",
        "    class_mode='categorical',\n",
        "    shuffle=True\n",
        ")\n",
        "\n",
        "val_generator = val_datagen.flow_from_directory(\n",
        "    os.path.join(output_folder_path, 'val'),\n",
        "    target_size=(224, 224),\n",
        "    batch_size=32,\n",
        "    class_mode='categorical',\n",
        "    shuffle=False\n",
        ")"
      ],
      "metadata": {
        "colab": {
          "base_uri": "https://localhost:8080/"
        },
        "id": "3Hs8UDnWbXsa",
        "outputId": "c9670700-4cd1-4ed1-9d46-1545b54fe0d5"
      },
      "execution_count": 75,
      "outputs": [
        {
          "output_type": "stream",
          "name": "stdout",
          "text": [
            "Found 4143 images belonging to 3 classes.\n",
            "Found 1037 images belonging to 3 classes.\n"
          ]
        }
      ]
    },
    {
      "cell_type": "code",
      "source": [
        "\n",
        "# Split a portion of the training data for testing\n",
        "train_images, test_images, train_labels, test_labels = train_test_split(\n",
        "    train_generator.filepaths,\n",
        "    train_generator.labels,\n",
        "    test_size=0.2,\n",
        "    random_state=42\n",
        ")"
      ],
      "metadata": {
        "id": "wBOh6xt1pEez"
      },
      "execution_count": 8,
      "outputs": []
    },
    {
      "cell_type": "code",
      "source": [
        "\n",
        "# Convert numerical labels to string labels\n",
        "train_labels_str = [str(label) for label in train_labels]\n",
        "test_labels_str = [str(label) for label in test_labels]"
      ],
      "metadata": {
        "id": "clXuWxWbpMtu"
      },
      "execution_count": 9,
      "outputs": []
    },
    {
      "cell_type": "code",
      "source": [
        "\n",
        "# Set up a separate data generator for testing\n",
        "test_datagen = ImageDataGenerator(rescale=1./255)\n",
        "\n",
        "test_generator = test_datagen.flow_from_dataframe(\n",
        "    pd.DataFrame({'filename': test_images, 'class': test_labels_str}),\n",
        "    x_col='filename',\n",
        "    y_col='class',\n",
        "    target_size=(224, 224),\n",
        "    batch_size=32,\n",
        "    class_mode='categorical',\n",
        "    shuffle=False\n",
        ")\n"
      ],
      "metadata": {
        "colab": {
          "base_uri": "https://localhost:8080/"
        },
        "id": "m89SFTvepF3C",
        "outputId": "32fde7c3-6258-4f09-d64b-4b24c4f5d97d"
      },
      "execution_count": 10,
      "outputs": [
        {
          "output_type": "stream",
          "name": "stdout",
          "text": [
            "Found 829 validated image filenames belonging to 3 classes.\n"
          ]
        }
      ]
    },
    {
      "cell_type": "code",
      "source": [
        "# Separando em inputs (x) e labels (y)\n",
        "train_x, train_y = next(train_generator)\n",
        "val_x, val_y = next(val_generator)\n",
        "\n",
        "test_x, test_y = next(test_generator)"
      ],
      "metadata": {
        "id": "l2zPOVJteehL"
      },
      "execution_count": 11,
      "outputs": []
    },
    {
      "cell_type": "code",
      "source": [],
      "metadata": {
        "id": "6B0i_hXhbXW5"
      },
      "execution_count": 80,
      "outputs": []
    },
    {
      "cell_type": "markdown",
      "source": [
        "# Training the model"
      ],
      "metadata": {
        "id": "8xevGJIKiq7n"
      }
    },
    {
      "metadata": {
        "id": "n2s5qypkYoad"
      },
      "cell_type": "markdown",
      "source": [
        "### Training a customized CNN model\n",
        "\n"
      ]
    },
    {
      "cell_type": "code",
      "source": [
        "\n",
        "# Define EfficientNet model using TensorFlow and Keras\n",
        "\n",
        "base_model = keras.applications.EfficientNetB0(include_top=False, input_shape=(224, 224, 3), weights='imagenet')\n",
        "\n",
        "model = Sequential([\n",
        "    base_model,\n",
        "\n",
        "    GlobalAveragePooling2D(),\n",
        "\n",
        "    Dense(256, activation='relu'),\n",
        "    Dropout(0.5),\n",
        "\n",
        "    Dense(128, activation='relu'),\n",
        "    Dropout(0.3),\n",
        "\n",
        "    Dense(64, activation='relu'),\n",
        "    Dropout(0.1),\n",
        "\n",
        "    Dense(3, activation='softmax')\n",
        "])"
      ],
      "metadata": {
        "id": "7UonJy1w6cvM"
      },
      "execution_count": 170,
      "outputs": []
    },
    {
      "cell_type": "code",
      "source": [
        "base_model.summary()"
      ],
      "metadata": {
        "colab": {
          "base_uri": "https://localhost:8080/"
        },
        "id": "ZsXOioff-LcR",
        "outputId": "32530009-bd78-4c07-d4f6-30db5c68dbb8"
      },
      "execution_count": 171,
      "outputs": [
        {
          "output_type": "stream",
          "name": "stdout",
          "text": [
            "Model: \"efficientnetb0\"\n",
            "__________________________________________________________________________________________________\n",
            " Layer (type)                Output Shape                 Param #   Connected to                  \n",
            "==================================================================================================\n",
            " input_15 (InputLayer)       [(None, 224, 224, 3)]        0         []                            \n",
            "                                                                                                  \n",
            " rescaling_10 (Rescaling)    (None, 224, 224, 3)          0         ['input_15[0][0]']            \n",
            "                                                                                                  \n",
            " normalization_5 (Normaliza  (None, 224, 224, 3)          7         ['rescaling_10[0][0]']        \n",
            " tion)                                                                                            \n",
            "                                                                                                  \n",
            " rescaling_11 (Rescaling)    (None, 224, 224, 3)          0         ['normalization_5[0][0]']     \n",
            "                                                                                                  \n",
            " stem_conv_pad (ZeroPadding  (None, 225, 225, 3)          0         ['rescaling_11[0][0]']        \n",
            " 2D)                                                                                              \n",
            "                                                                                                  \n",
            " stem_conv (Conv2D)          (None, 112, 112, 32)         864       ['stem_conv_pad[0][0]']       \n",
            "                                                                                                  \n",
            " stem_bn (BatchNormalizatio  (None, 112, 112, 32)         128       ['stem_conv[0][0]']           \n",
            " n)                                                                                               \n",
            "                                                                                                  \n",
            " stem_activation (Activatio  (None, 112, 112, 32)         0         ['stem_bn[0][0]']             \n",
            " n)                                                                                               \n",
            "                                                                                                  \n",
            " block1a_dwconv (DepthwiseC  (None, 112, 112, 32)         288       ['stem_activation[0][0]']     \n",
            " onv2D)                                                                                           \n",
            "                                                                                                  \n",
            " block1a_bn (BatchNormaliza  (None, 112, 112, 32)         128       ['block1a_dwconv[0][0]']      \n",
            " tion)                                                                                            \n",
            "                                                                                                  \n",
            " block1a_activation (Activa  (None, 112, 112, 32)         0         ['block1a_bn[0][0]']          \n",
            " tion)                                                                                            \n",
            "                                                                                                  \n",
            " block1a_se_squeeze (Global  (None, 32)                   0         ['block1a_activation[0][0]']  \n",
            " AveragePooling2D)                                                                                \n",
            "                                                                                                  \n",
            " block1a_se_reshape (Reshap  (None, 1, 1, 32)             0         ['block1a_se_squeeze[0][0]']  \n",
            " e)                                                                                               \n",
            "                                                                                                  \n",
            " block1a_se_reduce (Conv2D)  (None, 1, 1, 8)              264       ['block1a_se_reshape[0][0]']  \n",
            "                                                                                                  \n",
            " block1a_se_expand (Conv2D)  (None, 1, 1, 32)             288       ['block1a_se_reduce[0][0]']   \n",
            "                                                                                                  \n",
            " block1a_se_excite (Multipl  (None, 112, 112, 32)         0         ['block1a_activation[0][0]',  \n",
            " y)                                                                  'block1a_se_expand[0][0]']   \n",
            "                                                                                                  \n",
            " block1a_project_conv (Conv  (None, 112, 112, 16)         512       ['block1a_se_excite[0][0]']   \n",
            " 2D)                                                                                              \n",
            "                                                                                                  \n",
            " block1a_project_bn (BatchN  (None, 112, 112, 16)         64        ['block1a_project_conv[0][0]']\n",
            " ormalization)                                                                                    \n",
            "                                                                                                  \n",
            " block2a_expand_conv (Conv2  (None, 112, 112, 96)         1536      ['block1a_project_bn[0][0]']  \n",
            " D)                                                                                               \n",
            "                                                                                                  \n",
            " block2a_expand_bn (BatchNo  (None, 112, 112, 96)         384       ['block2a_expand_conv[0][0]'] \n",
            " rmalization)                                                                                     \n",
            "                                                                                                  \n",
            " block2a_expand_activation   (None, 112, 112, 96)         0         ['block2a_expand_bn[0][0]']   \n",
            " (Activation)                                                                                     \n",
            "                                                                                                  \n",
            " block2a_dwconv_pad (ZeroPa  (None, 113, 113, 96)         0         ['block2a_expand_activation[0]\n",
            " dding2D)                                                           [0]']                         \n",
            "                                                                                                  \n",
            " block2a_dwconv (DepthwiseC  (None, 56, 56, 96)           864       ['block2a_dwconv_pad[0][0]']  \n",
            " onv2D)                                                                                           \n",
            "                                                                                                  \n",
            " block2a_bn (BatchNormaliza  (None, 56, 56, 96)           384       ['block2a_dwconv[0][0]']      \n",
            " tion)                                                                                            \n",
            "                                                                                                  \n",
            " block2a_activation (Activa  (None, 56, 56, 96)           0         ['block2a_bn[0][0]']          \n",
            " tion)                                                                                            \n",
            "                                                                                                  \n",
            " block2a_se_squeeze (Global  (None, 96)                   0         ['block2a_activation[0][0]']  \n",
            " AveragePooling2D)                                                                                \n",
            "                                                                                                  \n",
            " block2a_se_reshape (Reshap  (None, 1, 1, 96)             0         ['block2a_se_squeeze[0][0]']  \n",
            " e)                                                                                               \n",
            "                                                                                                  \n",
            " block2a_se_reduce (Conv2D)  (None, 1, 1, 4)              388       ['block2a_se_reshape[0][0]']  \n",
            "                                                                                                  \n",
            " block2a_se_expand (Conv2D)  (None, 1, 1, 96)             480       ['block2a_se_reduce[0][0]']   \n",
            "                                                                                                  \n",
            " block2a_se_excite (Multipl  (None, 56, 56, 96)           0         ['block2a_activation[0][0]',  \n",
            " y)                                                                  'block2a_se_expand[0][0]']   \n",
            "                                                                                                  \n",
            " block2a_project_conv (Conv  (None, 56, 56, 24)           2304      ['block2a_se_excite[0][0]']   \n",
            " 2D)                                                                                              \n",
            "                                                                                                  \n",
            " block2a_project_bn (BatchN  (None, 56, 56, 24)           96        ['block2a_project_conv[0][0]']\n",
            " ormalization)                                                                                    \n",
            "                                                                                                  \n",
            " block2b_expand_conv (Conv2  (None, 56, 56, 144)          3456      ['block2a_project_bn[0][0]']  \n",
            " D)                                                                                               \n",
            "                                                                                                  \n",
            " block2b_expand_bn (BatchNo  (None, 56, 56, 144)          576       ['block2b_expand_conv[0][0]'] \n",
            " rmalization)                                                                                     \n",
            "                                                                                                  \n",
            " block2b_expand_activation   (None, 56, 56, 144)          0         ['block2b_expand_bn[0][0]']   \n",
            " (Activation)                                                                                     \n",
            "                                                                                                  \n",
            " block2b_dwconv (DepthwiseC  (None, 56, 56, 144)          1296      ['block2b_expand_activation[0]\n",
            " onv2D)                                                             [0]']                         \n",
            "                                                                                                  \n",
            " block2b_bn (BatchNormaliza  (None, 56, 56, 144)          576       ['block2b_dwconv[0][0]']      \n",
            " tion)                                                                                            \n",
            "                                                                                                  \n",
            " block2b_activation (Activa  (None, 56, 56, 144)          0         ['block2b_bn[0][0]']          \n",
            " tion)                                                                                            \n",
            "                                                                                                  \n",
            " block2b_se_squeeze (Global  (None, 144)                  0         ['block2b_activation[0][0]']  \n",
            " AveragePooling2D)                                                                                \n",
            "                                                                                                  \n",
            " block2b_se_reshape (Reshap  (None, 1, 1, 144)            0         ['block2b_se_squeeze[0][0]']  \n",
            " e)                                                                                               \n",
            "                                                                                                  \n",
            " block2b_se_reduce (Conv2D)  (None, 1, 1, 6)              870       ['block2b_se_reshape[0][0]']  \n",
            "                                                                                                  \n",
            " block2b_se_expand (Conv2D)  (None, 1, 1, 144)            1008      ['block2b_se_reduce[0][0]']   \n",
            "                                                                                                  \n",
            " block2b_se_excite (Multipl  (None, 56, 56, 144)          0         ['block2b_activation[0][0]',  \n",
            " y)                                                                  'block2b_se_expand[0][0]']   \n",
            "                                                                                                  \n",
            " block2b_project_conv (Conv  (None, 56, 56, 24)           3456      ['block2b_se_excite[0][0]']   \n",
            " 2D)                                                                                              \n",
            "                                                                                                  \n",
            " block2b_project_bn (BatchN  (None, 56, 56, 24)           96        ['block2b_project_conv[0][0]']\n",
            " ormalization)                                                                                    \n",
            "                                                                                                  \n",
            " block2b_drop (Dropout)      (None, 56, 56, 24)           0         ['block2b_project_bn[0][0]']  \n",
            "                                                                                                  \n",
            " block2b_add (Add)           (None, 56, 56, 24)           0         ['block2b_drop[0][0]',        \n",
            "                                                                     'block2a_project_bn[0][0]']  \n",
            "                                                                                                  \n",
            " block3a_expand_conv (Conv2  (None, 56, 56, 144)          3456      ['block2b_add[0][0]']         \n",
            " D)                                                                                               \n",
            "                                                                                                  \n",
            " block3a_expand_bn (BatchNo  (None, 56, 56, 144)          576       ['block3a_expand_conv[0][0]'] \n",
            " rmalization)                                                                                     \n",
            "                                                                                                  \n",
            " block3a_expand_activation   (None, 56, 56, 144)          0         ['block3a_expand_bn[0][0]']   \n",
            " (Activation)                                                                                     \n",
            "                                                                                                  \n",
            " block3a_dwconv_pad (ZeroPa  (None, 59, 59, 144)          0         ['block3a_expand_activation[0]\n",
            " dding2D)                                                           [0]']                         \n",
            "                                                                                                  \n",
            " block3a_dwconv (DepthwiseC  (None, 28, 28, 144)          3600      ['block3a_dwconv_pad[0][0]']  \n",
            " onv2D)                                                                                           \n",
            "                                                                                                  \n",
            " block3a_bn (BatchNormaliza  (None, 28, 28, 144)          576       ['block3a_dwconv[0][0]']      \n",
            " tion)                                                                                            \n",
            "                                                                                                  \n",
            " block3a_activation (Activa  (None, 28, 28, 144)          0         ['block3a_bn[0][0]']          \n",
            " tion)                                                                                            \n",
            "                                                                                                  \n",
            " block3a_se_squeeze (Global  (None, 144)                  0         ['block3a_activation[0][0]']  \n",
            " AveragePooling2D)                                                                                \n",
            "                                                                                                  \n",
            " block3a_se_reshape (Reshap  (None, 1, 1, 144)            0         ['block3a_se_squeeze[0][0]']  \n",
            " e)                                                                                               \n",
            "                                                                                                  \n",
            " block3a_se_reduce (Conv2D)  (None, 1, 1, 6)              870       ['block3a_se_reshape[0][0]']  \n",
            "                                                                                                  \n",
            " block3a_se_expand (Conv2D)  (None, 1, 1, 144)            1008      ['block3a_se_reduce[0][0]']   \n",
            "                                                                                                  \n",
            " block3a_se_excite (Multipl  (None, 28, 28, 144)          0         ['block3a_activation[0][0]',  \n",
            " y)                                                                  'block3a_se_expand[0][0]']   \n",
            "                                                                                                  \n",
            " block3a_project_conv (Conv  (None, 28, 28, 40)           5760      ['block3a_se_excite[0][0]']   \n",
            " 2D)                                                                                              \n",
            "                                                                                                  \n",
            " block3a_project_bn (BatchN  (None, 28, 28, 40)           160       ['block3a_project_conv[0][0]']\n",
            " ormalization)                                                                                    \n",
            "                                                                                                  \n",
            " block3b_expand_conv (Conv2  (None, 28, 28, 240)          9600      ['block3a_project_bn[0][0]']  \n",
            " D)                                                                                               \n",
            "                                                                                                  \n",
            " block3b_expand_bn (BatchNo  (None, 28, 28, 240)          960       ['block3b_expand_conv[0][0]'] \n",
            " rmalization)                                                                                     \n",
            "                                                                                                  \n",
            " block3b_expand_activation   (None, 28, 28, 240)          0         ['block3b_expand_bn[0][0]']   \n",
            " (Activation)                                                                                     \n",
            "                                                                                                  \n",
            " block3b_dwconv (DepthwiseC  (None, 28, 28, 240)          6000      ['block3b_expand_activation[0]\n",
            " onv2D)                                                             [0]']                         \n",
            "                                                                                                  \n",
            " block3b_bn (BatchNormaliza  (None, 28, 28, 240)          960       ['block3b_dwconv[0][0]']      \n",
            " tion)                                                                                            \n",
            "                                                                                                  \n",
            " block3b_activation (Activa  (None, 28, 28, 240)          0         ['block3b_bn[0][0]']          \n",
            " tion)                                                                                            \n",
            "                                                                                                  \n",
            " block3b_se_squeeze (Global  (None, 240)                  0         ['block3b_activation[0][0]']  \n",
            " AveragePooling2D)                                                                                \n",
            "                                                                                                  \n",
            " block3b_se_reshape (Reshap  (None, 1, 1, 240)            0         ['block3b_se_squeeze[0][0]']  \n",
            " e)                                                                                               \n",
            "                                                                                                  \n",
            " block3b_se_reduce (Conv2D)  (None, 1, 1, 10)             2410      ['block3b_se_reshape[0][0]']  \n",
            "                                                                                                  \n",
            " block3b_se_expand (Conv2D)  (None, 1, 1, 240)            2640      ['block3b_se_reduce[0][0]']   \n",
            "                                                                                                  \n",
            " block3b_se_excite (Multipl  (None, 28, 28, 240)          0         ['block3b_activation[0][0]',  \n",
            " y)                                                                  'block3b_se_expand[0][0]']   \n",
            "                                                                                                  \n",
            " block3b_project_conv (Conv  (None, 28, 28, 40)           9600      ['block3b_se_excite[0][0]']   \n",
            " 2D)                                                                                              \n",
            "                                                                                                  \n",
            " block3b_project_bn (BatchN  (None, 28, 28, 40)           160       ['block3b_project_conv[0][0]']\n",
            " ormalization)                                                                                    \n",
            "                                                                                                  \n",
            " block3b_drop (Dropout)      (None, 28, 28, 40)           0         ['block3b_project_bn[0][0]']  \n",
            "                                                                                                  \n",
            " block3b_add (Add)           (None, 28, 28, 40)           0         ['block3b_drop[0][0]',        \n",
            "                                                                     'block3a_project_bn[0][0]']  \n",
            "                                                                                                  \n",
            " block4a_expand_conv (Conv2  (None, 28, 28, 240)          9600      ['block3b_add[0][0]']         \n",
            " D)                                                                                               \n",
            "                                                                                                  \n",
            " block4a_expand_bn (BatchNo  (None, 28, 28, 240)          960       ['block4a_expand_conv[0][0]'] \n",
            " rmalization)                                                                                     \n",
            "                                                                                                  \n",
            " block4a_expand_activation   (None, 28, 28, 240)          0         ['block4a_expand_bn[0][0]']   \n",
            " (Activation)                                                                                     \n",
            "                                                                                                  \n",
            " block4a_dwconv_pad (ZeroPa  (None, 29, 29, 240)          0         ['block4a_expand_activation[0]\n",
            " dding2D)                                                           [0]']                         \n",
            "                                                                                                  \n",
            " block4a_dwconv (DepthwiseC  (None, 14, 14, 240)          2160      ['block4a_dwconv_pad[0][0]']  \n",
            " onv2D)                                                                                           \n",
            "                                                                                                  \n",
            " block4a_bn (BatchNormaliza  (None, 14, 14, 240)          960       ['block4a_dwconv[0][0]']      \n",
            " tion)                                                                                            \n",
            "                                                                                                  \n",
            " block4a_activation (Activa  (None, 14, 14, 240)          0         ['block4a_bn[0][0]']          \n",
            " tion)                                                                                            \n",
            "                                                                                                  \n",
            " block4a_se_squeeze (Global  (None, 240)                  0         ['block4a_activation[0][0]']  \n",
            " AveragePooling2D)                                                                                \n",
            "                                                                                                  \n",
            " block4a_se_reshape (Reshap  (None, 1, 1, 240)            0         ['block4a_se_squeeze[0][0]']  \n",
            " e)                                                                                               \n",
            "                                                                                                  \n",
            " block4a_se_reduce (Conv2D)  (None, 1, 1, 10)             2410      ['block4a_se_reshape[0][0]']  \n",
            "                                                                                                  \n",
            " block4a_se_expand (Conv2D)  (None, 1, 1, 240)            2640      ['block4a_se_reduce[0][0]']   \n",
            "                                                                                                  \n",
            " block4a_se_excite (Multipl  (None, 14, 14, 240)          0         ['block4a_activation[0][0]',  \n",
            " y)                                                                  'block4a_se_expand[0][0]']   \n",
            "                                                                                                  \n",
            " block4a_project_conv (Conv  (None, 14, 14, 80)           19200     ['block4a_se_excite[0][0]']   \n",
            " 2D)                                                                                              \n",
            "                                                                                                  \n",
            " block4a_project_bn (BatchN  (None, 14, 14, 80)           320       ['block4a_project_conv[0][0]']\n",
            " ormalization)                                                                                    \n",
            "                                                                                                  \n",
            " block4b_expand_conv (Conv2  (None, 14, 14, 480)          38400     ['block4a_project_bn[0][0]']  \n",
            " D)                                                                                               \n",
            "                                                                                                  \n",
            " block4b_expand_bn (BatchNo  (None, 14, 14, 480)          1920      ['block4b_expand_conv[0][0]'] \n",
            " rmalization)                                                                                     \n",
            "                                                                                                  \n",
            " block4b_expand_activation   (None, 14, 14, 480)          0         ['block4b_expand_bn[0][0]']   \n",
            " (Activation)                                                                                     \n",
            "                                                                                                  \n",
            " block4b_dwconv (DepthwiseC  (None, 14, 14, 480)          4320      ['block4b_expand_activation[0]\n",
            " onv2D)                                                             [0]']                         \n",
            "                                                                                                  \n",
            " block4b_bn (BatchNormaliza  (None, 14, 14, 480)          1920      ['block4b_dwconv[0][0]']      \n",
            " tion)                                                                                            \n",
            "                                                                                                  \n",
            " block4b_activation (Activa  (None, 14, 14, 480)          0         ['block4b_bn[0][0]']          \n",
            " tion)                                                                                            \n",
            "                                                                                                  \n",
            " block4b_se_squeeze (Global  (None, 480)                  0         ['block4b_activation[0][0]']  \n",
            " AveragePooling2D)                                                                                \n",
            "                                                                                                  \n",
            " block4b_se_reshape (Reshap  (None, 1, 1, 480)            0         ['block4b_se_squeeze[0][0]']  \n",
            " e)                                                                                               \n",
            "                                                                                                  \n",
            " block4b_se_reduce (Conv2D)  (None, 1, 1, 20)             9620      ['block4b_se_reshape[0][0]']  \n",
            "                                                                                                  \n",
            " block4b_se_expand (Conv2D)  (None, 1, 1, 480)            10080     ['block4b_se_reduce[0][0]']   \n",
            "                                                                                                  \n",
            " block4b_se_excite (Multipl  (None, 14, 14, 480)          0         ['block4b_activation[0][0]',  \n",
            " y)                                                                  'block4b_se_expand[0][0]']   \n",
            "                                                                                                  \n",
            " block4b_project_conv (Conv  (None, 14, 14, 80)           38400     ['block4b_se_excite[0][0]']   \n",
            " 2D)                                                                                              \n",
            "                                                                                                  \n",
            " block4b_project_bn (BatchN  (None, 14, 14, 80)           320       ['block4b_project_conv[0][0]']\n",
            " ormalization)                                                                                    \n",
            "                                                                                                  \n",
            " block4b_drop (Dropout)      (None, 14, 14, 80)           0         ['block4b_project_bn[0][0]']  \n",
            "                                                                                                  \n",
            " block4b_add (Add)           (None, 14, 14, 80)           0         ['block4b_drop[0][0]',        \n",
            "                                                                     'block4a_project_bn[0][0]']  \n",
            "                                                                                                  \n",
            " block4c_expand_conv (Conv2  (None, 14, 14, 480)          38400     ['block4b_add[0][0]']         \n",
            " D)                                                                                               \n",
            "                                                                                                  \n",
            " block4c_expand_bn (BatchNo  (None, 14, 14, 480)          1920      ['block4c_expand_conv[0][0]'] \n",
            " rmalization)                                                                                     \n",
            "                                                                                                  \n",
            " block4c_expand_activation   (None, 14, 14, 480)          0         ['block4c_expand_bn[0][0]']   \n",
            " (Activation)                                                                                     \n",
            "                                                                                                  \n",
            " block4c_dwconv (DepthwiseC  (None, 14, 14, 480)          4320      ['block4c_expand_activation[0]\n",
            " onv2D)                                                             [0]']                         \n",
            "                                                                                                  \n",
            " block4c_bn (BatchNormaliza  (None, 14, 14, 480)          1920      ['block4c_dwconv[0][0]']      \n",
            " tion)                                                                                            \n",
            "                                                                                                  \n",
            " block4c_activation (Activa  (None, 14, 14, 480)          0         ['block4c_bn[0][0]']          \n",
            " tion)                                                                                            \n",
            "                                                                                                  \n",
            " block4c_se_squeeze (Global  (None, 480)                  0         ['block4c_activation[0][0]']  \n",
            " AveragePooling2D)                                                                                \n",
            "                                                                                                  \n",
            " block4c_se_reshape (Reshap  (None, 1, 1, 480)            0         ['block4c_se_squeeze[0][0]']  \n",
            " e)                                                                                               \n",
            "                                                                                                  \n",
            " block4c_se_reduce (Conv2D)  (None, 1, 1, 20)             9620      ['block4c_se_reshape[0][0]']  \n",
            "                                                                                                  \n",
            " block4c_se_expand (Conv2D)  (None, 1, 1, 480)            10080     ['block4c_se_reduce[0][0]']   \n",
            "                                                                                                  \n",
            " block4c_se_excite (Multipl  (None, 14, 14, 480)          0         ['block4c_activation[0][0]',  \n",
            " y)                                                                  'block4c_se_expand[0][0]']   \n",
            "                                                                                                  \n",
            " block4c_project_conv (Conv  (None, 14, 14, 80)           38400     ['block4c_se_excite[0][0]']   \n",
            " 2D)                                                                                              \n",
            "                                                                                                  \n",
            " block4c_project_bn (BatchN  (None, 14, 14, 80)           320       ['block4c_project_conv[0][0]']\n",
            " ormalization)                                                                                    \n",
            "                                                                                                  \n",
            " block4c_drop (Dropout)      (None, 14, 14, 80)           0         ['block4c_project_bn[0][0]']  \n",
            "                                                                                                  \n",
            " block4c_add (Add)           (None, 14, 14, 80)           0         ['block4c_drop[0][0]',        \n",
            "                                                                     'block4b_add[0][0]']         \n",
            "                                                                                                  \n",
            " block5a_expand_conv (Conv2  (None, 14, 14, 480)          38400     ['block4c_add[0][0]']         \n",
            " D)                                                                                               \n",
            "                                                                                                  \n",
            " block5a_expand_bn (BatchNo  (None, 14, 14, 480)          1920      ['block5a_expand_conv[0][0]'] \n",
            " rmalization)                                                                                     \n",
            "                                                                                                  \n",
            " block5a_expand_activation   (None, 14, 14, 480)          0         ['block5a_expand_bn[0][0]']   \n",
            " (Activation)                                                                                     \n",
            "                                                                                                  \n",
            " block5a_dwconv (DepthwiseC  (None, 14, 14, 480)          12000     ['block5a_expand_activation[0]\n",
            " onv2D)                                                             [0]']                         \n",
            "                                                                                                  \n",
            " block5a_bn (BatchNormaliza  (None, 14, 14, 480)          1920      ['block5a_dwconv[0][0]']      \n",
            " tion)                                                                                            \n",
            "                                                                                                  \n",
            " block5a_activation (Activa  (None, 14, 14, 480)          0         ['block5a_bn[0][0]']          \n",
            " tion)                                                                                            \n",
            "                                                                                                  \n",
            " block5a_se_squeeze (Global  (None, 480)                  0         ['block5a_activation[0][0]']  \n",
            " AveragePooling2D)                                                                                \n",
            "                                                                                                  \n",
            " block5a_se_reshape (Reshap  (None, 1, 1, 480)            0         ['block5a_se_squeeze[0][0]']  \n",
            " e)                                                                                               \n",
            "                                                                                                  \n",
            " block5a_se_reduce (Conv2D)  (None, 1, 1, 20)             9620      ['block5a_se_reshape[0][0]']  \n",
            "                                                                                                  \n",
            " block5a_se_expand (Conv2D)  (None, 1, 1, 480)            10080     ['block5a_se_reduce[0][0]']   \n",
            "                                                                                                  \n",
            " block5a_se_excite (Multipl  (None, 14, 14, 480)          0         ['block5a_activation[0][0]',  \n",
            " y)                                                                  'block5a_se_expand[0][0]']   \n",
            "                                                                                                  \n",
            " block5a_project_conv (Conv  (None, 14, 14, 112)          53760     ['block5a_se_excite[0][0]']   \n",
            " 2D)                                                                                              \n",
            "                                                                                                  \n",
            " block5a_project_bn (BatchN  (None, 14, 14, 112)          448       ['block5a_project_conv[0][0]']\n",
            " ormalization)                                                                                    \n",
            "                                                                                                  \n",
            " block5b_expand_conv (Conv2  (None, 14, 14, 672)          75264     ['block5a_project_bn[0][0]']  \n",
            " D)                                                                                               \n",
            "                                                                                                  \n",
            " block5b_expand_bn (BatchNo  (None, 14, 14, 672)          2688      ['block5b_expand_conv[0][0]'] \n",
            " rmalization)                                                                                     \n",
            "                                                                                                  \n",
            " block5b_expand_activation   (None, 14, 14, 672)          0         ['block5b_expand_bn[0][0]']   \n",
            " (Activation)                                                                                     \n",
            "                                                                                                  \n",
            " block5b_dwconv (DepthwiseC  (None, 14, 14, 672)          16800     ['block5b_expand_activation[0]\n",
            " onv2D)                                                             [0]']                         \n",
            "                                                                                                  \n",
            " block5b_bn (BatchNormaliza  (None, 14, 14, 672)          2688      ['block5b_dwconv[0][0]']      \n",
            " tion)                                                                                            \n",
            "                                                                                                  \n",
            " block5b_activation (Activa  (None, 14, 14, 672)          0         ['block5b_bn[0][0]']          \n",
            " tion)                                                                                            \n",
            "                                                                                                  \n",
            " block5b_se_squeeze (Global  (None, 672)                  0         ['block5b_activation[0][0]']  \n",
            " AveragePooling2D)                                                                                \n",
            "                                                                                                  \n",
            " block5b_se_reshape (Reshap  (None, 1, 1, 672)            0         ['block5b_se_squeeze[0][0]']  \n",
            " e)                                                                                               \n",
            "                                                                                                  \n",
            " block5b_se_reduce (Conv2D)  (None, 1, 1, 28)             18844     ['block5b_se_reshape[0][0]']  \n",
            "                                                                                                  \n",
            " block5b_se_expand (Conv2D)  (None, 1, 1, 672)            19488     ['block5b_se_reduce[0][0]']   \n",
            "                                                                                                  \n",
            " block5b_se_excite (Multipl  (None, 14, 14, 672)          0         ['block5b_activation[0][0]',  \n",
            " y)                                                                  'block5b_se_expand[0][0]']   \n",
            "                                                                                                  \n",
            " block5b_project_conv (Conv  (None, 14, 14, 112)          75264     ['block5b_se_excite[0][0]']   \n",
            " 2D)                                                                                              \n",
            "                                                                                                  \n",
            " block5b_project_bn (BatchN  (None, 14, 14, 112)          448       ['block5b_project_conv[0][0]']\n",
            " ormalization)                                                                                    \n",
            "                                                                                                  \n",
            " block5b_drop (Dropout)      (None, 14, 14, 112)          0         ['block5b_project_bn[0][0]']  \n",
            "                                                                                                  \n",
            " block5b_add (Add)           (None, 14, 14, 112)          0         ['block5b_drop[0][0]',        \n",
            "                                                                     'block5a_project_bn[0][0]']  \n",
            "                                                                                                  \n",
            " block5c_expand_conv (Conv2  (None, 14, 14, 672)          75264     ['block5b_add[0][0]']         \n",
            " D)                                                                                               \n",
            "                                                                                                  \n",
            " block5c_expand_bn (BatchNo  (None, 14, 14, 672)          2688      ['block5c_expand_conv[0][0]'] \n",
            " rmalization)                                                                                     \n",
            "                                                                                                  \n",
            " block5c_expand_activation   (None, 14, 14, 672)          0         ['block5c_expand_bn[0][0]']   \n",
            " (Activation)                                                                                     \n",
            "                                                                                                  \n",
            " block5c_dwconv (DepthwiseC  (None, 14, 14, 672)          16800     ['block5c_expand_activation[0]\n",
            " onv2D)                                                             [0]']                         \n",
            "                                                                                                  \n",
            " block5c_bn (BatchNormaliza  (None, 14, 14, 672)          2688      ['block5c_dwconv[0][0]']      \n",
            " tion)                                                                                            \n",
            "                                                                                                  \n",
            " block5c_activation (Activa  (None, 14, 14, 672)          0         ['block5c_bn[0][0]']          \n",
            " tion)                                                                                            \n",
            "                                                                                                  \n",
            " block5c_se_squeeze (Global  (None, 672)                  0         ['block5c_activation[0][0]']  \n",
            " AveragePooling2D)                                                                                \n",
            "                                                                                                  \n",
            " block5c_se_reshape (Reshap  (None, 1, 1, 672)            0         ['block5c_se_squeeze[0][0]']  \n",
            " e)                                                                                               \n",
            "                                                                                                  \n",
            " block5c_se_reduce (Conv2D)  (None, 1, 1, 28)             18844     ['block5c_se_reshape[0][0]']  \n",
            "                                                                                                  \n",
            " block5c_se_expand (Conv2D)  (None, 1, 1, 672)            19488     ['block5c_se_reduce[0][0]']   \n",
            "                                                                                                  \n",
            " block5c_se_excite (Multipl  (None, 14, 14, 672)          0         ['block5c_activation[0][0]',  \n",
            " y)                                                                  'block5c_se_expand[0][0]']   \n",
            "                                                                                                  \n",
            " block5c_project_conv (Conv  (None, 14, 14, 112)          75264     ['block5c_se_excite[0][0]']   \n",
            " 2D)                                                                                              \n",
            "                                                                                                  \n",
            " block5c_project_bn (BatchN  (None, 14, 14, 112)          448       ['block5c_project_conv[0][0]']\n",
            " ormalization)                                                                                    \n",
            "                                                                                                  \n",
            " block5c_drop (Dropout)      (None, 14, 14, 112)          0         ['block5c_project_bn[0][0]']  \n",
            "                                                                                                  \n",
            " block5c_add (Add)           (None, 14, 14, 112)          0         ['block5c_drop[0][0]',        \n",
            "                                                                     'block5b_add[0][0]']         \n",
            "                                                                                                  \n",
            " block6a_expand_conv (Conv2  (None, 14, 14, 672)          75264     ['block5c_add[0][0]']         \n",
            " D)                                                                                               \n",
            "                                                                                                  \n",
            " block6a_expand_bn (BatchNo  (None, 14, 14, 672)          2688      ['block6a_expand_conv[0][0]'] \n",
            " rmalization)                                                                                     \n",
            "                                                                                                  \n",
            " block6a_expand_activation   (None, 14, 14, 672)          0         ['block6a_expand_bn[0][0]']   \n",
            " (Activation)                                                                                     \n",
            "                                                                                                  \n",
            " block6a_dwconv_pad (ZeroPa  (None, 17, 17, 672)          0         ['block6a_expand_activation[0]\n",
            " dding2D)                                                           [0]']                         \n",
            "                                                                                                  \n",
            " block6a_dwconv (DepthwiseC  (None, 7, 7, 672)            16800     ['block6a_dwconv_pad[0][0]']  \n",
            " onv2D)                                                                                           \n",
            "                                                                                                  \n",
            " block6a_bn (BatchNormaliza  (None, 7, 7, 672)            2688      ['block6a_dwconv[0][0]']      \n",
            " tion)                                                                                            \n",
            "                                                                                                  \n",
            " block6a_activation (Activa  (None, 7, 7, 672)            0         ['block6a_bn[0][0]']          \n",
            " tion)                                                                                            \n",
            "                                                                                                  \n",
            " block6a_se_squeeze (Global  (None, 672)                  0         ['block6a_activation[0][0]']  \n",
            " AveragePooling2D)                                                                                \n",
            "                                                                                                  \n",
            " block6a_se_reshape (Reshap  (None, 1, 1, 672)            0         ['block6a_se_squeeze[0][0]']  \n",
            " e)                                                                                               \n",
            "                                                                                                  \n",
            " block6a_se_reduce (Conv2D)  (None, 1, 1, 28)             18844     ['block6a_se_reshape[0][0]']  \n",
            "                                                                                                  \n",
            " block6a_se_expand (Conv2D)  (None, 1, 1, 672)            19488     ['block6a_se_reduce[0][0]']   \n",
            "                                                                                                  \n",
            " block6a_se_excite (Multipl  (None, 7, 7, 672)            0         ['block6a_activation[0][0]',  \n",
            " y)                                                                  'block6a_se_expand[0][0]']   \n",
            "                                                                                                  \n",
            " block6a_project_conv (Conv  (None, 7, 7, 192)            129024    ['block6a_se_excite[0][0]']   \n",
            " 2D)                                                                                              \n",
            "                                                                                                  \n",
            " block6a_project_bn (BatchN  (None, 7, 7, 192)            768       ['block6a_project_conv[0][0]']\n",
            " ormalization)                                                                                    \n",
            "                                                                                                  \n",
            " block6b_expand_conv (Conv2  (None, 7, 7, 1152)           221184    ['block6a_project_bn[0][0]']  \n",
            " D)                                                                                               \n",
            "                                                                                                  \n",
            " block6b_expand_bn (BatchNo  (None, 7, 7, 1152)           4608      ['block6b_expand_conv[0][0]'] \n",
            " rmalization)                                                                                     \n",
            "                                                                                                  \n",
            " block6b_expand_activation   (None, 7, 7, 1152)           0         ['block6b_expand_bn[0][0]']   \n",
            " (Activation)                                                                                     \n",
            "                                                                                                  \n",
            " block6b_dwconv (DepthwiseC  (None, 7, 7, 1152)           28800     ['block6b_expand_activation[0]\n",
            " onv2D)                                                             [0]']                         \n",
            "                                                                                                  \n",
            " block6b_bn (BatchNormaliza  (None, 7, 7, 1152)           4608      ['block6b_dwconv[0][0]']      \n",
            " tion)                                                                                            \n",
            "                                                                                                  \n",
            " block6b_activation (Activa  (None, 7, 7, 1152)           0         ['block6b_bn[0][0]']          \n",
            " tion)                                                                                            \n",
            "                                                                                                  \n",
            " block6b_se_squeeze (Global  (None, 1152)                 0         ['block6b_activation[0][0]']  \n",
            " AveragePooling2D)                                                                                \n",
            "                                                                                                  \n",
            " block6b_se_reshape (Reshap  (None, 1, 1, 1152)           0         ['block6b_se_squeeze[0][0]']  \n",
            " e)                                                                                               \n",
            "                                                                                                  \n",
            " block6b_se_reduce (Conv2D)  (None, 1, 1, 48)             55344     ['block6b_se_reshape[0][0]']  \n",
            "                                                                                                  \n",
            " block6b_se_expand (Conv2D)  (None, 1, 1, 1152)           56448     ['block6b_se_reduce[0][0]']   \n",
            "                                                                                                  \n",
            " block6b_se_excite (Multipl  (None, 7, 7, 1152)           0         ['block6b_activation[0][0]',  \n",
            " y)                                                                  'block6b_se_expand[0][0]']   \n",
            "                                                                                                  \n",
            " block6b_project_conv (Conv  (None, 7, 7, 192)            221184    ['block6b_se_excite[0][0]']   \n",
            " 2D)                                                                                              \n",
            "                                                                                                  \n",
            " block6b_project_bn (BatchN  (None, 7, 7, 192)            768       ['block6b_project_conv[0][0]']\n",
            " ormalization)                                                                                    \n",
            "                                                                                                  \n",
            " block6b_drop (Dropout)      (None, 7, 7, 192)            0         ['block6b_project_bn[0][0]']  \n",
            "                                                                                                  \n",
            " block6b_add (Add)           (None, 7, 7, 192)            0         ['block6b_drop[0][0]',        \n",
            "                                                                     'block6a_project_bn[0][0]']  \n",
            "                                                                                                  \n",
            " block6c_expand_conv (Conv2  (None, 7, 7, 1152)           221184    ['block6b_add[0][0]']         \n",
            " D)                                                                                               \n",
            "                                                                                                  \n",
            " block6c_expand_bn (BatchNo  (None, 7, 7, 1152)           4608      ['block6c_expand_conv[0][0]'] \n",
            " rmalization)                                                                                     \n",
            "                                                                                                  \n",
            " block6c_expand_activation   (None, 7, 7, 1152)           0         ['block6c_expand_bn[0][0]']   \n",
            " (Activation)                                                                                     \n",
            "                                                                                                  \n",
            " block6c_dwconv (DepthwiseC  (None, 7, 7, 1152)           28800     ['block6c_expand_activation[0]\n",
            " onv2D)                                                             [0]']                         \n",
            "                                                                                                  \n",
            " block6c_bn (BatchNormaliza  (None, 7, 7, 1152)           4608      ['block6c_dwconv[0][0]']      \n",
            " tion)                                                                                            \n",
            "                                                                                                  \n",
            " block6c_activation (Activa  (None, 7, 7, 1152)           0         ['block6c_bn[0][0]']          \n",
            " tion)                                                                                            \n",
            "                                                                                                  \n",
            " block6c_se_squeeze (Global  (None, 1152)                 0         ['block6c_activation[0][0]']  \n",
            " AveragePooling2D)                                                                                \n",
            "                                                                                                  \n",
            " block6c_se_reshape (Reshap  (None, 1, 1, 1152)           0         ['block6c_se_squeeze[0][0]']  \n",
            " e)                                                                                               \n",
            "                                                                                                  \n",
            " block6c_se_reduce (Conv2D)  (None, 1, 1, 48)             55344     ['block6c_se_reshape[0][0]']  \n",
            "                                                                                                  \n",
            " block6c_se_expand (Conv2D)  (None, 1, 1, 1152)           56448     ['block6c_se_reduce[0][0]']   \n",
            "                                                                                                  \n",
            " block6c_se_excite (Multipl  (None, 7, 7, 1152)           0         ['block6c_activation[0][0]',  \n",
            " y)                                                                  'block6c_se_expand[0][0]']   \n",
            "                                                                                                  \n",
            " block6c_project_conv (Conv  (None, 7, 7, 192)            221184    ['block6c_se_excite[0][0]']   \n",
            " 2D)                                                                                              \n",
            "                                                                                                  \n",
            " block6c_project_bn (BatchN  (None, 7, 7, 192)            768       ['block6c_project_conv[0][0]']\n",
            " ormalization)                                                                                    \n",
            "                                                                                                  \n",
            " block6c_drop (Dropout)      (None, 7, 7, 192)            0         ['block6c_project_bn[0][0]']  \n",
            "                                                                                                  \n",
            " block6c_add (Add)           (None, 7, 7, 192)            0         ['block6c_drop[0][0]',        \n",
            "                                                                     'block6b_add[0][0]']         \n",
            "                                                                                                  \n",
            " block6d_expand_conv (Conv2  (None, 7, 7, 1152)           221184    ['block6c_add[0][0]']         \n",
            " D)                                                                                               \n",
            "                                                                                                  \n",
            " block6d_expand_bn (BatchNo  (None, 7, 7, 1152)           4608      ['block6d_expand_conv[0][0]'] \n",
            " rmalization)                                                                                     \n",
            "                                                                                                  \n",
            " block6d_expand_activation   (None, 7, 7, 1152)           0         ['block6d_expand_bn[0][0]']   \n",
            " (Activation)                                                                                     \n",
            "                                                                                                  \n",
            " block6d_dwconv (DepthwiseC  (None, 7, 7, 1152)           28800     ['block6d_expand_activation[0]\n",
            " onv2D)                                                             [0]']                         \n",
            "                                                                                                  \n",
            " block6d_bn (BatchNormaliza  (None, 7, 7, 1152)           4608      ['block6d_dwconv[0][0]']      \n",
            " tion)                                                                                            \n",
            "                                                                                                  \n",
            " block6d_activation (Activa  (None, 7, 7, 1152)           0         ['block6d_bn[0][0]']          \n",
            " tion)                                                                                            \n",
            "                                                                                                  \n",
            " block6d_se_squeeze (Global  (None, 1152)                 0         ['block6d_activation[0][0]']  \n",
            " AveragePooling2D)                                                                                \n",
            "                                                                                                  \n",
            " block6d_se_reshape (Reshap  (None, 1, 1, 1152)           0         ['block6d_se_squeeze[0][0]']  \n",
            " e)                                                                                               \n",
            "                                                                                                  \n",
            " block6d_se_reduce (Conv2D)  (None, 1, 1, 48)             55344     ['block6d_se_reshape[0][0]']  \n",
            "                                                                                                  \n",
            " block6d_se_expand (Conv2D)  (None, 1, 1, 1152)           56448     ['block6d_se_reduce[0][0]']   \n",
            "                                                                                                  \n",
            " block6d_se_excite (Multipl  (None, 7, 7, 1152)           0         ['block6d_activation[0][0]',  \n",
            " y)                                                                  'block6d_se_expand[0][0]']   \n",
            "                                                                                                  \n",
            " block6d_project_conv (Conv  (None, 7, 7, 192)            221184    ['block6d_se_excite[0][0]']   \n",
            " 2D)                                                                                              \n",
            "                                                                                                  \n",
            " block6d_project_bn (BatchN  (None, 7, 7, 192)            768       ['block6d_project_conv[0][0]']\n",
            " ormalization)                                                                                    \n",
            "                                                                                                  \n",
            " block6d_drop (Dropout)      (None, 7, 7, 192)            0         ['block6d_project_bn[0][0]']  \n",
            "                                                                                                  \n",
            " block6d_add (Add)           (None, 7, 7, 192)            0         ['block6d_drop[0][0]',        \n",
            "                                                                     'block6c_add[0][0]']         \n",
            "                                                                                                  \n",
            " block7a_expand_conv (Conv2  (None, 7, 7, 1152)           221184    ['block6d_add[0][0]']         \n",
            " D)                                                                                               \n",
            "                                                                                                  \n",
            " block7a_expand_bn (BatchNo  (None, 7, 7, 1152)           4608      ['block7a_expand_conv[0][0]'] \n",
            " rmalization)                                                                                     \n",
            "                                                                                                  \n",
            " block7a_expand_activation   (None, 7, 7, 1152)           0         ['block7a_expand_bn[0][0]']   \n",
            " (Activation)                                                                                     \n",
            "                                                                                                  \n",
            " block7a_dwconv (DepthwiseC  (None, 7, 7, 1152)           10368     ['block7a_expand_activation[0]\n",
            " onv2D)                                                             [0]']                         \n",
            "                                                                                                  \n",
            " block7a_bn (BatchNormaliza  (None, 7, 7, 1152)           4608      ['block7a_dwconv[0][0]']      \n",
            " tion)                                                                                            \n",
            "                                                                                                  \n",
            " block7a_activation (Activa  (None, 7, 7, 1152)           0         ['block7a_bn[0][0]']          \n",
            " tion)                                                                                            \n",
            "                                                                                                  \n",
            " block7a_se_squeeze (Global  (None, 1152)                 0         ['block7a_activation[0][0]']  \n",
            " AveragePooling2D)                                                                                \n",
            "                                                                                                  \n",
            " block7a_se_reshape (Reshap  (None, 1, 1, 1152)           0         ['block7a_se_squeeze[0][0]']  \n",
            " e)                                                                                               \n",
            "                                                                                                  \n",
            " block7a_se_reduce (Conv2D)  (None, 1, 1, 48)             55344     ['block7a_se_reshape[0][0]']  \n",
            "                                                                                                  \n",
            " block7a_se_expand (Conv2D)  (None, 1, 1, 1152)           56448     ['block7a_se_reduce[0][0]']   \n",
            "                                                                                                  \n",
            " block7a_se_excite (Multipl  (None, 7, 7, 1152)           0         ['block7a_activation[0][0]',  \n",
            " y)                                                                  'block7a_se_expand[0][0]']   \n",
            "                                                                                                  \n",
            " block7a_project_conv (Conv  (None, 7, 7, 320)            368640    ['block7a_se_excite[0][0]']   \n",
            " 2D)                                                                                              \n",
            "                                                                                                  \n",
            " block7a_project_bn (BatchN  (None, 7, 7, 320)            1280      ['block7a_project_conv[0][0]']\n",
            " ormalization)                                                                                    \n",
            "                                                                                                  \n",
            " top_conv (Conv2D)           (None, 7, 7, 1280)           409600    ['block7a_project_bn[0][0]']  \n",
            "                                                                                                  \n",
            " top_bn (BatchNormalization  (None, 7, 7, 1280)           5120      ['top_conv[0][0]']            \n",
            " )                                                                                                \n",
            "                                                                                                  \n",
            " top_activation (Activation  (None, 7, 7, 1280)           0         ['top_bn[0][0]']              \n",
            " )                                                                                                \n",
            "                                                                                                  \n",
            "==================================================================================================\n",
            "Total params: 4049571 (15.45 MB)\n",
            "Trainable params: 4007548 (15.29 MB)\n",
            "Non-trainable params: 42023 (164.16 KB)\n",
            "__________________________________________________________________________________________________\n"
          ]
        }
      ]
    },
    {
      "cell_type": "code",
      "source": [
        "print(\"Input dimensions: \", train_x.shape[1:])"
      ],
      "metadata": {
        "colab": {
          "base_uri": "https://localhost:8080/"
        },
        "id": "Btpf4RTj-z4x",
        "outputId": "bcc0ec74-337b-4476-8828-9f56f57fadd8"
      },
      "execution_count": 175,
      "outputs": [
        {
          "output_type": "stream",
          "name": "stdout",
          "text": [
            "Input dimensions:  (224, 224, 3)\n"
          ]
        }
      ]
    },
    {
      "metadata": {
        "id": "y41GiiYTYoaf",
        "colab": {
          "base_uri": "https://localhost:8080/"
        },
        "outputId": "daccf912-8526-4c3d-f599-e524e490c859"
      },
      "cell_type": "code",
      "source": [
        "# build the network\n",
        "print(\"Input dimensions: \", train_x.shape[1:])\n",
        "\n",
        "\n",
        "model = Sequential([\n",
        "\n",
        "\n",
        "        Conv2D(32, (3, 3), input_shape=train_x.shape[1:]),\n",
        "        Activation('relu'),\n",
        "        MaxPooling2D(pool_size=(2, 2)),\n",
        "\n",
        "        Conv2D(64, (3, 3), activation='relu'),\n",
        "        MaxPooling2D(pool_size=(2, 2)),\n",
        "        Dropout(0.25),\n",
        "\n",
        "        Conv2D(64, (3, 3), activation='relu'),\n",
        "        MaxPooling2D(pool_size=(2, 2)),\n",
        "\n",
        "        Conv2D(32, (3, 3)),\n",
        "        Activation('relu'),\n",
        "        MaxPooling2D(pool_size=(2, 2)),\n",
        "        Dropout(0.25),\n",
        "\n",
        "\n",
        "\n",
        "        Flatten(),\n",
        "        Dense(256, activation='relu'),\n",
        "        Dropout(0.5),\n",
        "\n",
        "        Dense(128, activation='relu'),\n",
        "        Dropout(0.3),\n",
        "\n",
        "        Dense(3, activation='softmax'),\n",
        "\n",
        "\n",
        "])\n",
        "\n",
        "\n",
        "model.summary()"
      ],
      "execution_count": 36,
      "outputs": [
        {
          "output_type": "stream",
          "name": "stdout",
          "text": [
            "Input dimensions:  (224, 224, 3)\n",
            "Model: \"sequential_2\"\n",
            "_________________________________________________________________\n",
            " Layer (type)                Output Shape              Param #   \n",
            "=================================================================\n",
            " conv2d (Conv2D)             (None, 222, 222, 32)      896       \n",
            "                                                                 \n",
            " activation (Activation)     (None, 222, 222, 32)      0         \n",
            "                                                                 \n",
            " max_pooling2d (MaxPooling2  (None, 111, 111, 32)      0         \n",
            " D)                                                              \n",
            "                                                                 \n",
            " conv2d_1 (Conv2D)           (None, 109, 109, 64)      18496     \n",
            "                                                                 \n",
            " max_pooling2d_1 (MaxPoolin  (None, 54, 54, 64)        0         \n",
            " g2D)                                                            \n",
            "                                                                 \n",
            " dropout_6 (Dropout)         (None, 54, 54, 64)        0         \n",
            "                                                                 \n",
            " conv2d_2 (Conv2D)           (None, 52, 52, 64)        36928     \n",
            "                                                                 \n",
            " max_pooling2d_2 (MaxPoolin  (None, 26, 26, 64)        0         \n",
            " g2D)                                                            \n",
            "                                                                 \n",
            " conv2d_3 (Conv2D)           (None, 24, 24, 32)        18464     \n",
            "                                                                 \n",
            " activation_1 (Activation)   (None, 24, 24, 32)        0         \n",
            "                                                                 \n",
            " max_pooling2d_3 (MaxPoolin  (None, 12, 12, 32)        0         \n",
            " g2D)                                                            \n",
            "                                                                 \n",
            " dropout_7 (Dropout)         (None, 12, 12, 32)        0         \n",
            "                                                                 \n",
            " flatten_2 (Flatten)         (None, 4608)              0         \n",
            "                                                                 \n",
            " dense_8 (Dense)             (None, 256)               1179904   \n",
            "                                                                 \n",
            " dropout_8 (Dropout)         (None, 256)               0         \n",
            "                                                                 \n",
            " dense_9 (Dense)             (None, 128)               32896     \n",
            "                                                                 \n",
            " dropout_9 (Dropout)         (None, 128)               0         \n",
            "                                                                 \n",
            " dense_10 (Dense)            (None, 3)                 387       \n",
            "                                                                 \n",
            "=================================================================\n",
            "Total params: 1287971 (4.91 MB)\n",
            "Trainable params: 1287971 (4.91 MB)\n",
            "Non-trainable params: 0 (0.00 Byte)\n",
            "_________________________________________________________________\n"
          ]
        }
      ]
    },
    {
      "cell_type": "markdown",
      "source": [
        "### Callbacks, Optimization & Loss functions"
      ],
      "metadata": {
        "id": "S8D2ya_9X9OU"
      }
    },
    {
      "cell_type": "code",
      "source": [
        "from tensorflow.keras.callbacks import ModelCheckpoint, EarlyStopping, ReduceLROnPlateau\n",
        "np.random.seed(0)"
      ],
      "metadata": {
        "id": "6aujP_99ZYB6"
      },
      "execution_count": null,
      "outputs": []
    },
    {
      "cell_type": "code",
      "source": [
        "OPT = keras.optimizers.AdamW(learning_rate=0.001)"
      ],
      "metadata": {
        "id": "Gou41QnBYFNf"
      },
      "execution_count": null,
      "outputs": []
    },
    {
      "cell_type": "code",
      "source": [
        "LOSS = \"categorical_crossentropy\""
      ],
      "metadata": {
        "id": "Y0Qo3QkiYE6t"
      },
      "execution_count": null,
      "outputs": []
    },
    {
      "cell_type": "code",
      "source": [
        "# Define callbacks.\n",
        "checkpoint = ModelCheckpoint('best_model',\n",
        "                                      monitor='val_accuracy',\n",
        "                                      mode='max',\n",
        "                                      save_best_only=True)\n",
        "\n",
        "early_stopping = tf.keras.callbacks.EarlyStopping(monitor='val_accuracy', patience=15)\n"
      ],
      "metadata": {
        "id": "aNST5CelYwai"
      },
      "execution_count": null,
      "outputs": []
    },
    {
      "cell_type": "code",
      "source": [
        "CALLBACKS = [checkpoint, early_stopping]"
      ],
      "metadata": {
        "id": "k2F07w8iYhLL"
      },
      "execution_count": null,
      "outputs": []
    },
    {
      "cell_type": "markdown",
      "source": [
        "### Metrics"
      ],
      "metadata": {
        "id": "tX7YFTKAimnO"
      }
    },
    {
      "cell_type": "code",
      "source": [
        "from tensorflow.keras import metrics"
      ],
      "metadata": {
        "id": "Lk8ehBkUidYs"
      },
      "execution_count": 37,
      "outputs": []
    },
    {
      "cell_type": "code",
      "source": [
        "from tensorflow_addons.metrics import F1Score"
      ],
      "metadata": {
        "id": "VyC6JjAfn1rF"
      },
      "execution_count": 38,
      "outputs": []
    },
    {
      "cell_type": "code",
      "source": [
        "metrics_model =   ['accuracy',\n",
        "                    metrics.Precision(name='precision'),\n",
        "                    metrics.Recall(name='recall'),\n",
        "                    metrics.AUC(name='auc'),\n",
        "                    F1Score(num_classes=3, name='f1_score')]"
      ],
      "metadata": {
        "id": "G5N-wHDiiUWj"
      },
      "execution_count": 39,
      "outputs": []
    },
    {
      "cell_type": "markdown",
      "source": [
        "### Compilando o Modelo"
      ],
      "metadata": {
        "id": "ppVQY4uxikZC"
      }
    },
    {
      "cell_type": "code",
      "source": [
        "# compile the model to use categorical cross-entropy loss function and adadelta optimizer\n",
        "# You can then compile and train the model using the generated data generators\n",
        "# model.compile(optimizer='adam', loss='categorical_crossentropy', metrics=['accuracy'])\n",
        "\n",
        "\n",
        "model.compile(loss=LOSS,\n",
        "              optimizer=OPT,\n",
        "              metrics=metrics_model\n",
        "              )"
      ],
      "metadata": {
        "id": "h0j0s6m2AooV"
      },
      "execution_count": 40,
      "outputs": []
    },
    {
      "metadata": {
        "id": "CIqHecNAYoaj",
        "colab": {
          "base_uri": "https://localhost:8080/"
        },
        "outputId": "573c73a7-fbf6-448b-b931-13620ce8ba96"
      },
      "cell_type": "code",
      "source": [
        "\n",
        "# model.fit(, epochs=epochs, validation_data=val_generator)\n",
        "\n",
        "\n",
        "\n",
        "history = model.fit(train_x, train_y, batch_size=16, epochs=50, validation_data=(val_x, val_y))\n",
        "\n"
      ],
      "execution_count": 41,
      "outputs": [
        {
          "output_type": "stream",
          "name": "stdout",
          "text": [
            "Epoch 1/50\n",
            "2/2 [==============================] - 9s 624ms/step - loss: 0.9495 - accuracy: 0.4688 - precision: 0.6667 - recall: 0.1250 - auc: 0.7141 - f1_score: 0.3387 - val_loss: 0.2623 - val_accuracy: 1.0000 - val_precision: 1.0000 - val_recall: 1.0000 - val_auc: 1.0000 - val_f1_score: 0.3333\n",
            "Epoch 2/50\n",
            "2/2 [==============================] - 0s 104ms/step - loss: 1.0005 - accuracy: 0.5000 - precision: 0.5161 - recall: 0.5000 - auc: 0.7532 - f1_score: 0.2862 - val_loss: 0.5885 - val_accuracy: 1.0000 - val_precision: 1.0000 - val_recall: 1.0000 - val_auc: 1.0000 - val_f1_score: 0.3333\n",
            "Epoch 3/50\n",
            "2/2 [==============================] - 0s 110ms/step - loss: 0.9136 - accuracy: 0.5625 - precision: 0.6000 - recall: 0.5625 - auc: 0.7793 - f1_score: 0.3772 - val_loss: 0.7920 - val_accuracy: 0.8125 - val_precision: 0.0000e+00 - val_recall: 0.0000e+00 - val_auc: 0.8848 - val_f1_score: 0.2989\n",
            "Epoch 4/50\n",
            "2/2 [==============================] - 0s 107ms/step - loss: 0.8663 - accuracy: 0.4688 - precision: 0.4444 - recall: 0.2500 - auc: 0.7126 - f1_score: 0.3222 - val_loss: 0.8618 - val_accuracy: 0.5938 - val_precision: 0.0000e+00 - val_recall: 0.0000e+00 - val_auc: 0.7620 - val_f1_score: 0.2484\n",
            "Epoch 5/50\n",
            "2/2 [==============================] - 0s 133ms/step - loss: 0.8705 - accuracy: 0.5000 - precision: 0.5455 - recall: 0.1875 - auc: 0.7705 - f1_score: 0.3386 - val_loss: 0.7789 - val_accuracy: 1.0000 - val_precision: 0.0000e+00 - val_recall: 0.0000e+00 - val_auc: 1.0000 - val_f1_score: 0.3333\n",
            "Epoch 6/50\n",
            "2/2 [==============================] - 0s 104ms/step - loss: 0.8488 - accuracy: 0.5312 - precision: 0.6316 - recall: 0.3750 - auc: 0.7732 - f1_score: 0.3384 - val_loss: 0.6181 - val_accuracy: 1.0000 - val_precision: 1.0000 - val_recall: 0.9062 - val_auc: 1.0000 - val_f1_score: 0.3333\n",
            "Epoch 7/50\n",
            "2/2 [==============================] - 0s 131ms/step - loss: 0.8792 - accuracy: 0.5312 - precision: 0.5769 - recall: 0.4688 - auc: 0.7388 - f1_score: 0.2714 - val_loss: 0.4976 - val_accuracy: 1.0000 - val_precision: 1.0000 - val_recall: 1.0000 - val_auc: 1.0000 - val_f1_score: 0.3333\n",
            "Epoch 8/50\n",
            "2/2 [==============================] - 0s 99ms/step - loss: 0.7552 - accuracy: 0.6562 - precision: 0.6667 - recall: 0.5625 - auc: 0.8179 - f1_score: 0.4057 - val_loss: 0.5345 - val_accuracy: 1.0000 - val_precision: 1.0000 - val_recall: 1.0000 - val_auc: 1.0000 - val_f1_score: 0.3333\n",
            "Epoch 9/50\n",
            "2/2 [==============================] - 0s 101ms/step - loss: 0.7501 - accuracy: 0.6250 - precision: 0.7308 - recall: 0.5938 - auc: 0.8137 - f1_score: 0.3884 - val_loss: 0.5372 - val_accuracy: 1.0000 - val_precision: 1.0000 - val_recall: 1.0000 - val_auc: 1.0000 - val_f1_score: 0.3333\n",
            "Epoch 10/50\n",
            "2/2 [==============================] - 0s 134ms/step - loss: 0.7200 - accuracy: 0.5938 - precision: 0.6429 - recall: 0.5625 - auc: 0.8296 - f1_score: 0.3947 - val_loss: 0.5363 - val_accuracy: 1.0000 - val_precision: 1.0000 - val_recall: 1.0000 - val_auc: 1.0000 - val_f1_score: 0.3333\n",
            "Epoch 11/50\n",
            "2/2 [==============================] - 0s 96ms/step - loss: 0.7862 - accuracy: 0.6875 - precision: 0.7097 - recall: 0.6875 - auc: 0.8362 - f1_score: 0.4576 - val_loss: 0.4638 - val_accuracy: 1.0000 - val_precision: 1.0000 - val_recall: 1.0000 - val_auc: 1.0000 - val_f1_score: 0.3333\n",
            "Epoch 12/50\n",
            "2/2 [==============================] - 0s 132ms/step - loss: 0.6856 - accuracy: 0.6875 - precision: 0.7241 - recall: 0.6562 - auc: 0.8652 - f1_score: 0.4593 - val_loss: 0.5338 - val_accuracy: 1.0000 - val_precision: 1.0000 - val_recall: 1.0000 - val_auc: 1.0000 - val_f1_score: 0.3333\n",
            "Epoch 13/50\n",
            "2/2 [==============================] - 0s 131ms/step - loss: 0.7529 - accuracy: 0.5625 - precision: 0.5714 - recall: 0.5000 - auc: 0.8093 - f1_score: 0.3824 - val_loss: 0.5881 - val_accuracy: 1.0000 - val_precision: 1.0000 - val_recall: 0.9375 - val_auc: 1.0000 - val_f1_score: 0.3333\n",
            "Epoch 14/50\n",
            "2/2 [==============================] - 0s 133ms/step - loss: 0.6923 - accuracy: 0.6875 - precision: 0.6923 - recall: 0.5625 - auc: 0.8496 - f1_score: 0.4692 - val_loss: 0.6322 - val_accuracy: 1.0000 - val_precision: 1.0000 - val_recall: 0.8750 - val_auc: 1.0000 - val_f1_score: 0.3333\n",
            "Epoch 15/50\n",
            "2/2 [==============================] - 0s 100ms/step - loss: 0.7392 - accuracy: 0.6250 - precision: 0.6538 - recall: 0.5312 - auc: 0.8198 - f1_score: 0.4123 - val_loss: 0.5514 - val_accuracy: 1.0000 - val_precision: 1.0000 - val_recall: 0.9688 - val_auc: 1.0000 - val_f1_score: 0.3333\n",
            "Epoch 16/50\n",
            "2/2 [==============================] - 0s 103ms/step - loss: 0.6588 - accuracy: 0.6562 - precision: 0.6667 - recall: 0.6250 - auc: 0.8652 - f1_score: 0.4451 - val_loss: 0.4423 - val_accuracy: 1.0000 - val_precision: 1.0000 - val_recall: 1.0000 - val_auc: 1.0000 - val_f1_score: 0.3333\n",
            "Epoch 17/50\n",
            "2/2 [==============================] - 0s 97ms/step - loss: 0.6540 - accuracy: 0.6250 - precision: 0.6897 - recall: 0.6250 - auc: 0.8640 - f1_score: 0.4123 - val_loss: 0.3552 - val_accuracy: 1.0000 - val_precision: 1.0000 - val_recall: 1.0000 - val_auc: 1.0000 - val_f1_score: 0.3333\n",
            "Epoch 18/50\n",
            "2/2 [==============================] - 0s 110ms/step - loss: 0.7422 - accuracy: 0.6875 - precision: 0.7241 - recall: 0.6562 - auc: 0.8501 - f1_score: 0.4485 - val_loss: 0.4543 - val_accuracy: 1.0000 - val_precision: 1.0000 - val_recall: 1.0000 - val_auc: 1.0000 - val_f1_score: 0.3333\n",
            "Epoch 19/50\n",
            "2/2 [==============================] - 0s 100ms/step - loss: 0.6983 - accuracy: 0.6875 - precision: 0.7778 - recall: 0.6562 - auc: 0.8608 - f1_score: 0.4644 - val_loss: 0.6262 - val_accuracy: 1.0000 - val_precision: 1.0000 - val_recall: 0.8438 - val_auc: 0.9993 - val_f1_score: 0.3333\n",
            "Epoch 20/50\n",
            "2/2 [==============================] - 0s 96ms/step - loss: 0.5848 - accuracy: 0.7188 - precision: 0.7667 - recall: 0.7188 - auc: 0.9194 - f1_score: 0.4889 - val_loss: 0.3857 - val_accuracy: 1.0000 - val_precision: 1.0000 - val_recall: 1.0000 - val_auc: 1.0000 - val_f1_score: 0.3333\n",
            "Epoch 21/50\n",
            "2/2 [==============================] - 0s 100ms/step - loss: 0.6131 - accuracy: 0.6562 - precision: 0.6667 - recall: 0.6250 - auc: 0.8848 - f1_score: 0.4401 - val_loss: 0.3408 - val_accuracy: 1.0000 - val_precision: 1.0000 - val_recall: 1.0000 - val_auc: 1.0000 - val_f1_score: 0.3333\n",
            "Epoch 22/50\n",
            "2/2 [==============================] - 0s 99ms/step - loss: 0.5750 - accuracy: 0.7812 - precision: 0.8065 - recall: 0.7812 - auc: 0.8918 - f1_score: 0.5283 - val_loss: 0.3525 - val_accuracy: 1.0000 - val_precision: 1.0000 - val_recall: 1.0000 - val_auc: 1.0000 - val_f1_score: 0.3333\n",
            "Epoch 23/50\n",
            "2/2 [==============================] - 0s 101ms/step - loss: 0.6482 - accuracy: 0.6875 - precision: 0.7097 - recall: 0.6875 - auc: 0.8757 - f1_score: 0.4692 - val_loss: 0.4153 - val_accuracy: 1.0000 - val_precision: 1.0000 - val_recall: 1.0000 - val_auc: 1.0000 - val_f1_score: 0.3333\n",
            "Epoch 24/50\n",
            "2/2 [==============================] - 0s 133ms/step - loss: 0.5494 - accuracy: 0.7500 - precision: 0.7667 - recall: 0.7188 - auc: 0.9099 - f1_score: 0.5126 - val_loss: 0.4651 - val_accuracy: 1.0000 - val_precision: 1.0000 - val_recall: 0.9688 - val_auc: 1.0000 - val_f1_score: 0.3333\n",
            "Epoch 25/50\n",
            "2/2 [==============================] - 0s 103ms/step - loss: 0.5975 - accuracy: 0.7188 - precision: 0.7333 - recall: 0.6875 - auc: 0.8970 - f1_score: 0.4925 - val_loss: 0.4025 - val_accuracy: 1.0000 - val_precision: 1.0000 - val_recall: 1.0000 - val_auc: 1.0000 - val_f1_score: 0.3333\n",
            "Epoch 26/50\n",
            "2/2 [==============================] - 0s 98ms/step - loss: 0.5529 - accuracy: 0.6562 - precision: 0.6774 - recall: 0.6562 - auc: 0.9092 - f1_score: 0.4389 - val_loss: 0.3308 - val_accuracy: 1.0000 - val_precision: 1.0000 - val_recall: 1.0000 - val_auc: 1.0000 - val_f1_score: 0.3333\n",
            "Epoch 27/50\n",
            "2/2 [==============================] - 0s 131ms/step - loss: 0.4473 - accuracy: 0.7812 - precision: 0.8276 - recall: 0.7500 - auc: 0.9465 - f1_score: 0.7400 - val_loss: 0.3058 - val_accuracy: 0.9688 - val_precision: 0.9688 - val_recall: 0.9688 - val_auc: 0.9995 - val_f1_score: 0.3280\n",
            "Epoch 28/50\n",
            "2/2 [==============================] - 0s 104ms/step - loss: 0.4110 - accuracy: 0.8125 - precision: 0.8387 - recall: 0.8125 - auc: 0.9524 - f1_score: 0.7605 - val_loss: 0.5392 - val_accuracy: 0.7500 - val_precision: 0.7667 - val_recall: 0.7188 - val_auc: 0.9119 - val_f1_score: 0.2857\n",
            "Epoch 29/50\n",
            "2/2 [==============================] - 0s 109ms/step - loss: 0.4109 - accuracy: 0.8125 - precision: 0.8065 - recall: 0.7812 - auc: 0.9468 - f1_score: 0.8643 - val_loss: 0.3728 - val_accuracy: 0.9375 - val_precision: 0.9375 - val_recall: 0.9375 - val_auc: 0.9849 - val_f1_score: 0.3226\n",
            "Epoch 30/50\n",
            "2/2 [==============================] - 0s 101ms/step - loss: 0.3885 - accuracy: 0.8125 - precision: 0.8333 - recall: 0.7812 - auc: 0.9529 - f1_score: 0.7643 - val_loss: 0.2490 - val_accuracy: 0.9688 - val_precision: 0.9688 - val_recall: 0.9688 - val_auc: 0.9995 - val_f1_score: 0.3280\n",
            "Epoch 31/50\n",
            "2/2 [==============================] - 0s 101ms/step - loss: 0.3732 - accuracy: 0.8438 - precision: 0.8438 - recall: 0.8438 - auc: 0.9575 - f1_score: 0.7879 - val_loss: 0.5367 - val_accuracy: 0.6250 - val_precision: 0.6250 - val_recall: 0.6250 - val_auc: 0.9031 - val_f1_score: 0.2564\n",
            "Epoch 32/50\n",
            "2/2 [==============================] - 0s 105ms/step - loss: 0.4480 - accuracy: 0.7500 - precision: 0.7500 - recall: 0.7500 - auc: 0.9358 - f1_score: 0.7229 - val_loss: 0.5585 - val_accuracy: 0.6250 - val_precision: 0.6250 - val_recall: 0.6250 - val_auc: 0.8936 - val_f1_score: 0.2564\n",
            "Epoch 33/50\n",
            "2/2 [==============================] - 0s 100ms/step - loss: 0.4538 - accuracy: 0.8438 - precision: 0.8438 - recall: 0.8438 - auc: 0.9358 - f1_score: 0.8857 - val_loss: 0.4679 - val_accuracy: 0.7500 - val_precision: 0.7742 - val_recall: 0.7500 - val_auc: 0.9451 - val_f1_score: 0.2857\n",
            "Epoch 34/50\n",
            "2/2 [==============================] - 0s 101ms/step - loss: 0.2831 - accuracy: 0.9375 - precision: 0.9355 - recall: 0.9062 - auc: 0.9851 - f1_score: 0.9548 - val_loss: 0.3892 - val_accuracy: 0.9062 - val_precision: 0.9062 - val_recall: 0.9062 - val_auc: 0.9780 - val_f1_score: 0.3169\n",
            "Epoch 35/50\n",
            "2/2 [==============================] - 0s 133ms/step - loss: 0.4859 - accuracy: 0.7812 - precision: 0.7812 - recall: 0.7812 - auc: 0.9294 - f1_score: 0.7812 - val_loss: 0.4633 - val_accuracy: 0.7500 - val_precision: 0.7500 - val_recall: 0.7500 - val_auc: 0.9404 - val_f1_score: 0.2857\n",
            "Epoch 36/50\n",
            "2/2 [==============================] - 0s 99ms/step - loss: 0.2730 - accuracy: 0.8750 - precision: 0.8750 - recall: 0.8750 - auc: 0.9785 - f1_score: 0.9095 - val_loss: 0.3462 - val_accuracy: 0.9062 - val_precision: 0.9062 - val_recall: 0.9062 - val_auc: 0.9780 - val_f1_score: 0.3169\n",
            "Epoch 37/50\n",
            "2/2 [==============================] - 0s 130ms/step - loss: 0.2771 - accuracy: 0.8438 - precision: 0.8438 - recall: 0.8438 - auc: 0.9780 - f1_score: 0.8857 - val_loss: 0.4426 - val_accuracy: 0.7188 - val_precision: 0.7667 - val_recall: 0.7188 - val_auc: 0.9377 - val_f1_score: 0.2788\n",
            "Epoch 38/50\n",
            "2/2 [==============================] - 0s 136ms/step - loss: 0.1808 - accuracy: 0.9375 - precision: 0.9375 - recall: 0.9375 - auc: 0.9946 - f1_score: 0.9548 - val_loss: 0.5545 - val_accuracy: 0.6562 - val_precision: 0.6562 - val_recall: 0.6562 - val_auc: 0.8965 - val_f1_score: 0.2642\n",
            "Epoch 39/50\n",
            "2/2 [==============================] - 0s 100ms/step - loss: 0.1551 - accuracy: 0.9375 - precision: 0.9375 - recall: 0.9375 - auc: 0.9966 - f1_score: 0.9537 - val_loss: 0.3024 - val_accuracy: 0.9062 - val_precision: 0.9062 - val_recall: 0.9062 - val_auc: 0.9741 - val_f1_score: 0.3169\n",
            "Epoch 40/50\n",
            "2/2 [==============================] - 0s 112ms/step - loss: 0.1743 - accuracy: 0.9062 - precision: 0.9062 - recall: 0.9062 - auc: 0.9897 - f1_score: 0.9314 - val_loss: 0.3854 - val_accuracy: 0.8125 - val_precision: 0.8125 - val_recall: 0.8125 - val_auc: 0.9541 - val_f1_score: 0.2989\n",
            "Epoch 41/50\n",
            "2/2 [==============================] - 0s 132ms/step - loss: 0.1285 - accuracy: 0.9688 - precision: 0.9688 - recall: 0.9688 - auc: 0.9958 - f1_score: 0.9776 - val_loss: 0.5923 - val_accuracy: 0.7500 - val_precision: 0.7500 - val_recall: 0.7500 - val_auc: 0.9062 - val_f1_score: 0.2857\n",
            "Epoch 42/50\n",
            "2/2 [==============================] - 0s 100ms/step - loss: 0.3811 - accuracy: 0.8125 - precision: 0.8125 - recall: 0.8125 - auc: 0.9604 - f1_score: 0.8611 - val_loss: 0.1770 - val_accuracy: 0.9375 - val_precision: 0.9375 - val_recall: 0.9375 - val_auc: 0.9939 - val_f1_score: 0.3226\n",
            "Epoch 43/50\n",
            "2/2 [==============================] - 0s 134ms/step - loss: 0.1469 - accuracy: 0.9688 - precision: 0.9688 - recall: 0.9688 - auc: 0.9976 - f1_score: 0.9771 - val_loss: 0.3601 - val_accuracy: 0.8438 - val_precision: 0.8438 - val_recall: 0.8438 - val_auc: 0.9570 - val_f1_score: 0.3051\n",
            "Epoch 44/50\n",
            "2/2 [==============================] - 0s 104ms/step - loss: 0.1781 - accuracy: 0.9375 - precision: 0.9375 - recall: 0.9375 - auc: 0.9912 - f1_score: 0.8550 - val_loss: 0.7589 - val_accuracy: 0.5625 - val_precision: 0.5625 - val_recall: 0.5625 - val_auc: 0.8333 - val_f1_score: 0.2400\n",
            "Epoch 45/50\n",
            "2/2 [==============================] - 0s 98ms/step - loss: 0.1139 - accuracy: 0.9688 - precision: 0.9688 - recall: 0.9688 - auc: 0.9968 - f1_score: 0.9776 - val_loss: 1.0599 - val_accuracy: 0.4062 - val_precision: 0.4062 - val_recall: 0.4062 - val_auc: 0.7468 - val_f1_score: 0.1926\n",
            "Epoch 46/50\n",
            "2/2 [==============================] - 0s 133ms/step - loss: 0.0798 - accuracy: 0.9688 - precision: 0.9688 - recall: 0.9688 - auc: 0.9995 - f1_score: 0.9776 - val_loss: 1.0452 - val_accuracy: 0.4375 - val_precision: 0.4375 - val_recall: 0.4375 - val_auc: 0.7634 - val_f1_score: 0.2029\n",
            "Epoch 47/50\n",
            "2/2 [==============================] - 0s 149ms/step - loss: 0.0817 - accuracy: 0.9688 - precision: 0.9688 - recall: 0.9688 - auc: 0.9980 - f1_score: 0.9776 - val_loss: 0.7072 - val_accuracy: 0.6875 - val_precision: 0.6875 - val_recall: 0.6875 - val_auc: 0.8711 - val_f1_score: 0.2716\n",
            "Epoch 48/50\n",
            "2/2 [==============================] - 0s 122ms/step - loss: 0.1269 - accuracy: 0.9375 - precision: 0.9375 - recall: 0.9375 - auc: 0.9961 - f1_score: 0.9554 - val_loss: 0.4297 - val_accuracy: 0.8438 - val_precision: 0.8438 - val_recall: 0.8438 - val_auc: 0.9475 - val_f1_score: 0.3051\n",
            "Epoch 49/50\n",
            "2/2 [==============================] - 0s 146ms/step - loss: 0.0508 - accuracy: 0.9688 - precision: 0.9688 - recall: 0.9688 - auc: 0.9995 - f1_score: 0.9771 - val_loss: 0.3104 - val_accuracy: 0.8750 - val_precision: 0.8750 - val_recall: 0.8750 - val_auc: 0.9695 - val_f1_score: 0.3111\n",
            "Epoch 50/50\n",
            "2/2 [==============================] - 0s 141ms/step - loss: 0.1906 - accuracy: 0.9375 - precision: 0.9375 - recall: 0.9375 - auc: 0.9885 - f1_score: 0.8976 - val_loss: 0.2801 - val_accuracy: 0.8750 - val_precision: 0.8750 - val_recall: 0.8750 - val_auc: 0.9756 - val_f1_score: 0.3111\n"
          ]
        }
      ]
    },
    {
      "metadata": {
        "id": "yG0CKOI1Yoao"
      },
      "cell_type": "markdown",
      "source": [
        "Let's plot the validation loss and validation accuracy over time."
      ]
    },
    {
      "metadata": {
        "id": "_CCPq_ndYoap",
        "colab": {
          "base_uri": "https://localhost:8080/",
          "height": 343
        },
        "outputId": "82f52573-630e-4d10-be91-9254049dc1fa"
      },
      "cell_type": "code",
      "source": [
        "fig = plt.figure(figsize=(16,4))\n",
        "ax = fig.add_subplot(121)\n",
        "ax.plot(history.history[\"val_loss\"])\n",
        "ax.set_title(\"validation loss\")\n",
        "ax.set_xlabel(\"epochs\")\n",
        "\n",
        "ax2 = fig.add_subplot(122)\n",
        "ax2.plot(history.history[\"val_accuracy\"])\n",
        "ax2.set_title(\"validation accuracy\")\n",
        "ax2.set_xlabel(\"epochs\")\n",
        "ax2.set_ylim(0, 1)\n",
        "\n",
        "plt.show()"
      ],
      "execution_count": 42,
      "outputs": [
        {
          "output_type": "display_data",
          "data": {
            "text/plain": [
              "<Figure size 1600x400 with 2 Axes>"
            ],
            "image/png": "[encoded data removed]"
          },
          "metadata": {}
        }
      ]
    },
    {
      "metadata": {
        "id": "8Itd5LDAYoav",
        "colab": {
          "base_uri": "https://localhost:8080/"
        },
        "outputId": "e61b5ade-5ef6-408d-fb3e-3b39a7e3f17a"
      },
      "cell_type": "code",
      "source": [
        "result = model.evaluate(test_x, test_y, verbose=0)\n",
        "print('Test result:', result)"
      ],
      "execution_count": 43,
      "outputs": [
        {
          "output_type": "stream",
          "name": "stdout",
          "text": [
            "Test result: [3.7704596519470215, 0.46875, 0.46875, 0.46875, 0.56591796875, array([0.59999996, 0.        , 0.75      ], dtype=float32)]\n"
          ]
        }
      ]
    },
    {
      "cell_type": "code",
      "source": [
        "print('Test loss:', result[0])\n",
        "print('Test accuracy:', result[1])  # Assuming accuracy is the second metric"
      ],
      "metadata": {
        "colab": {
          "base_uri": "https://localhost:8080/"
        },
        "id": "MSSKaQ3nrCae",
        "outputId": "2a9f71fb-eeea-4dd3-b5d2-f5e3bded03e6"
      },
      "execution_count": 44,
      "outputs": [
        {
          "output_type": "stream",
          "name": "stdout",
          "text": [
            "Test loss: 3.7704596519470215\n",
            "Test accuracy: 0.46875\n"
          ]
        }
      ]
    },
    {
      "metadata": {
        "id": "vIwMY_ZXYoax"
      },
      "cell_type": "markdown",
      "source": [
        "## Transfer Learning - ViT"
      ]
    },
    {
      "cell_type": "code",
      "source": [
        "pip install -U tensorflow-addons"
      ],
      "metadata": {
        "colab": {
          "base_uri": "https://localhost:8080/"
        },
        "id": "Z9uYqsFfYmoS",
        "outputId": "23e3ceb3-1abb-450d-a23d-6dc2eb3747c5"
      },
      "execution_count": 45,
      "outputs": [
        {
          "output_type": "stream",
          "name": "stdout",
          "text": [
            "Requirement already satisfied: tensorflow-addons in /usr/local/lib/python3.10/dist-packages (0.23.0)\n",
            "Requirement already satisfied: packaging in /usr/local/lib/python3.10/dist-packages (from tensorflow-addons) (23.2)\n",
            "Requirement already satisfied: typeguard<3.0.0,>=2.7 in /usr/local/lib/python3.10/dist-packages (from tensorflow-addons) (2.13.3)\n"
          ]
        }
      ]
    },
    {
      "cell_type": "code",
      "source": [
        "import tensorflow_addons as tfa"
      ],
      "metadata": {
        "id": "HrnODaGkYsBV"
      },
      "execution_count": 46,
      "outputs": []
    },
    {
      "cell_type": "code",
      "source": [
        "!pip install --quiet vit-keras\n",
        "\n",
        "from vit_keras import vit, visualize\n",
        "import tensorflow_addons as tfa"
      ],
      "metadata": {
        "id": "2ACcDmQLWmjF"
      },
      "execution_count": 47,
      "outputs": []
    },
    {
      "cell_type": "code",
      "source": [
        "from keras.utils import to_categorical"
      ],
      "metadata": {
        "id": "LrRBY2AGK2Jv"
      },
      "execution_count": 59,
      "outputs": []
    },
    {
      "cell_type": "code",
      "source": [
        "train_y_one_hot = to_categorical(train_y, num_classes=3)\n",
        "val_y_one_hot = to_categorical(val_y, num_classes=3)"
      ],
      "metadata": {
        "id": "2D9qGI0VKyjN"
      },
      "execution_count": 60,
      "outputs": []
    },
    {
      "cell_type": "code",
      "source": [],
      "metadata": {
        "id": "jXKOCHfiKybx"
      },
      "execution_count": null,
      "outputs": []
    },
    {
      "metadata": {
        "id": "KpUDAbxiYoay",
        "colab": {
          "base_uri": "https://localhost:8080/"
        },
        "outputId": "052545c9-37cf-4cd0-eaf6-fea11e9760fa"
      },
      "cell_type": "code",
      "source": [
        "#vgg = keras.applications.VGG16(weights='imagenet', include_top=True)\n",
        "#vgg.summary()\n",
        "\n",
        "\n",
        "ViT_model = vit.vit_b16(  #vit.vit_b16\n",
        "        image_size = 224,\n",
        "        activation = 'softmax',\n",
        "        pretrained = True,\n",
        "        include_top = False,\n",
        "        pretrained_top = False,\n",
        "        classes = 3)"
      ],
      "execution_count": 48,
      "outputs": [
        {
          "output_type": "stream",
          "name": "stderr",
          "text": [
            "/usr/local/lib/python3.10/dist-packages/vit_keras/utils.py:81: UserWarning: Resizing position embeddings from 24, 24 to 14, 14\n",
            "  warnings.warn(\n"
          ]
        }
      ]
    },
    {
      "cell_type": "code",
      "source": [
        "ViT_model.summary()"
      ],
      "metadata": {
        "colab": {
          "base_uri": "https://localhost:8080/"
        },
        "id": "3fTn25KEg7BJ",
        "outputId": "2e20e9d2-dbcb-4bfb-f238-d34749ad63c7"
      },
      "execution_count": 49,
      "outputs": [
        {
          "output_type": "stream",
          "name": "stdout",
          "text": [
            "Model: \"vit-b16\"\n",
            "_________________________________________________________________\n",
            " Layer (type)                Output Shape              Param #   \n",
            "=================================================================\n",
            " input_2 (InputLayer)        [(None, 224, 224, 3)]     0         \n",
            "                                                                 \n",
            " embedding (Conv2D)          (None, 14, 14, 768)       590592    \n",
            "                                                                 \n",
            " reshape_1 (Reshape)         (None, 196, 768)          0         \n",
            "                                                                 \n",
            " class_token (ClassToken)    (None, 197, 768)          768       \n",
            "                                                                 \n",
            " Transformer/posembed_input  (None, 197, 768)          151296    \n",
            "  (AddPositionEmbs)                                              \n",
            "                                                                 \n",
            " Transformer/encoderblock_0  ((None, 197, 768),        7087872   \n",
            "  (TransformerBlock)          (None, 12, None, None)             \n",
            "                             )                                   \n",
            "                                                                 \n",
            " Transformer/encoderblock_1  ((None, 197, 768),        7087872   \n",
            "  (TransformerBlock)          (None, 12, None, None)             \n",
            "                             )                                   \n",
            "                                                                 \n",
            " Transformer/encoderblock_2  ((None, 197, 768),        7087872   \n",
            "  (TransformerBlock)          (None, 12, None, None)             \n",
            "                             )                                   \n",
            "                                                                 \n",
            " Transformer/encoderblock_3  ((None, 197, 768),        7087872   \n",
            "  (TransformerBlock)          (None, 12, None, None)             \n",
            "                             )                                   \n",
            "                                                                 \n",
            " Transformer/encoderblock_4  ((None, 197, 768),        7087872   \n",
            "  (TransformerBlock)          (None, 12, None, None)             \n",
            "                             )                                   \n",
            "                                                                 \n",
            " Transformer/encoderblock_5  ((None, 197, 768),        7087872   \n",
            "  (TransformerBlock)          (None, 12, None, None)             \n",
            "                             )                                   \n",
            "                                                                 \n",
            " Transformer/encoderblock_6  ((None, 197, 768),        7087872   \n",
            "  (TransformerBlock)          (None, 12, None, None)             \n",
            "                             )                                   \n",
            "                                                                 \n",
            " Transformer/encoderblock_7  ((None, 197, 768),        7087872   \n",
            "  (TransformerBlock)          (None, 12, None, None)             \n",
            "                             )                                   \n",
            "                                                                 \n",
            " Transformer/encoderblock_8  ((None, 197, 768),        7087872   \n",
            "  (TransformerBlock)          (None, 12, None, None)             \n",
            "                             )                                   \n",
            "                                                                 \n",
            " Transformer/encoderblock_9  ((None, 197, 768),        7087872   \n",
            "  (TransformerBlock)          (None, 12, None, None)             \n",
            "                             )                                   \n",
            "                                                                 \n",
            " Transformer/encoderblock_1  ((None, 197, 768),        7087872   \n",
            " 0 (TransformerBlock)         (None, 12, None, None)             \n",
            "                             )                                   \n",
            "                                                                 \n",
            " Transformer/encoderblock_1  ((None, 197, 768),        7087872   \n",
            " 1 (TransformerBlock)         (None, 12, None, None)             \n",
            "                             )                                   \n",
            "                                                                 \n",
            " Transformer/encoder_norm (  (None, 197, 768)          1536      \n",
            " LayerNormalization)                                             \n",
            "                                                                 \n",
            " ExtractToken (Lambda)       (None, 768)               0         \n",
            "                                                                 \n",
            "=================================================================\n",
            "Total params: 85798656 (327.30 MB)\n",
            "Trainable params: 85798656 (327.30 MB)\n",
            "Non-trainable params: 0 (0.00 Byte)\n",
            "_________________________________________________________________\n"
          ]
        }
      ]
    },
    {
      "cell_type": "code",
      "source": [
        "model = keras.Sequential([\n",
        "    ViT_model,  # Include the ViT model as the base\n",
        "\n",
        "    Flatten(),  # Flatten the output of ViT\n",
        "\n",
        "    Dense(64, activation='relu'),\n",
        "    Dropout(0.1),\n",
        "\n",
        "    Dense(3, activation='softmax')  # Output layer with 3 classes\n",
        "])"
      ],
      "metadata": {
        "id": "08IiczamDk7w"
      },
      "execution_count": 83,
      "outputs": []
    },
    {
      "metadata": {
        "id": "e_n5A8oGYoa9"
      },
      "cell_type": "code",
      "source": [
        "model.compile(loss=LOSS, optimizer=OPT,\n",
        "              metrics=metrics_model)"
      ],
      "execution_count": 84,
      "outputs": []
    },
    {
      "metadata": {
        "id": "aDdq71XNYobD",
        "colab": {
          "base_uri": "https://localhost:8080/"
        },
        "outputId": "95c00cbb-6687-4664-e6e3-459bc985a345"
      },
      "cell_type": "code",
      "source": [
        "history2 = model.fit(train_generator,\n",
        "                     batch_size=128, epochs=50,\n",
        "                     validation_data=val_generator)"
      ],
      "execution_count": null,
      "outputs": [
        {
          "output_type": "stream",
          "name": "stdout",
          "text": [
            "Epoch 1/50\n",
            "130/130 [==============================] - 234s 1s/step - loss: 0.7381 - accuracy: 0.5272 - precision: 0.5308 - recall: 0.5120 - auc: 0.7679 - f1_score: 0.5723 - val_loss: 0.6857 - val_accuracy: 0.5352 - val_precision: 0.5352 - val_recall: 0.5352 - val_auc: 0.7989 - val_f1_score: 0.4933\n",
            "Epoch 2/50\n",
            "130/130 [==============================] - 188s 1s/step - loss: 0.7063 - accuracy: 0.5223 - precision: 0.5235 - recall: 0.5117 - auc: 0.7736 - f1_score: 0.5725 - val_loss: 0.6782 - val_accuracy: 0.5419 - val_precision: 0.5419 - val_recall: 0.5419 - val_auc: 0.7983 - val_f1_score: 0.4847\n",
            "Epoch 3/50\n",
            "130/130 [==============================] - 188s 1s/step - loss: 0.7065 - accuracy: 0.5274 - precision: 0.5257 - recall: 0.4984 - auc: 0.7742 - f1_score: 0.5755 - val_loss: 0.6920 - val_accuracy: 0.6181 - val_precision: 0.6704 - val_recall: 0.2334 - val_auc: 0.7937 - val_f1_score: 0.6305\n",
            "Epoch 4/50\n",
            "130/130 [==============================] - 188s 1s/step - loss: 0.7039 - accuracy: 0.5390 - precision: 0.5423 - recall: 0.5281 - auc: 0.7801 - f1_score: 0.5833 - val_loss: 0.6821 - val_accuracy: 0.5419 - val_precision: 0.5419 - val_recall: 0.5419 - val_auc: 0.8063 - val_f1_score: 0.4847\n",
            "Epoch 5/50\n",
            "130/130 [==============================] - 188s 1s/step - loss: 0.6989 - accuracy: 0.5407 - precision: 0.5411 - recall: 0.5177 - auc: 0.7786 - f1_score: 0.5878 - val_loss: 0.6989 - val_accuracy: 0.5419 - val_precision: 0.5582 - val_recall: 0.4947 - val_auc: 0.8074 - val_f1_score: 0.4847\n",
            "Epoch 6/50\n",
            "130/130 [==============================] - 188s 1s/step - loss: 0.6974 - accuracy: 0.5303 - precision: 0.5334 - recall: 0.5189 - auc: 0.7793 - f1_score: 0.5794 - val_loss: 0.6829 - val_accuracy: 0.5342 - val_precision: 0.5344 - val_recall: 0.5323 - val_auc: 0.8025 - val_f1_score: 0.4922\n",
            "Epoch 7/50\n",
            "130/130 [==============================] - 188s 1s/step - loss: 0.6858 - accuracy: 0.5414 - precision: 0.5411 - recall: 0.5351 - auc: 0.7836 - f1_score: 0.5866 - val_loss: 0.6797 - val_accuracy: 0.5352 - val_precision: 0.5352 - val_recall: 0.5352 - val_auc: 0.7898 - val_f1_score: 0.4933\n",
            "Epoch 8/50\n",
            "130/130 [==============================] - 188s 1s/step - loss: 0.6932 - accuracy: 0.5354 - precision: 0.5382 - recall: 0.5206 - auc: 0.7818 - f1_score: 0.5790 - val_loss: 0.6778 - val_accuracy: 0.5419 - val_precision: 0.5426 - val_recall: 0.5410 - val_auc: 0.7959 - val_f1_score: 0.4847\n",
            "Epoch 9/50\n",
            "130/130 [==============================] - 194s 1s/step - loss: 0.6955 - accuracy: 0.5308 - precision: 0.5347 - recall: 0.5054 - auc: 0.7787 - f1_score: 0.5798 - val_loss: 0.6833 - val_accuracy: 0.5352 - val_precision: 0.5352 - val_recall: 0.5352 - val_auc: 0.7960 - val_f1_score: 0.4933\n",
            "Epoch 10/50\n",
            "130/130 [==============================] - 188s 1s/step - loss: 0.6946 - accuracy: 0.5385 - precision: 0.5407 - recall: 0.5197 - auc: 0.7819 - f1_score: 0.5876 - val_loss: 0.6774 - val_accuracy: 0.5564 - val_precision: 0.5572 - val_recall: 0.5400 - val_auc: 0.7997 - val_f1_score: 0.5204\n",
            "Epoch 11/50\n",
            "130/130 [==============================] - 188s 1s/step - loss: 0.6851 - accuracy: 0.5506 - precision: 0.5509 - recall: 0.5380 - auc: 0.7850 - f1_score: 0.5907 - val_loss: 0.6797 - val_accuracy: 0.5371 - val_precision: 0.5371 - val_recall: 0.5371 - val_auc: 0.7967 - val_f1_score: 0.4986\n",
            "Epoch 12/50\n",
            "130/130 [==============================] - 190s 1s/step - loss: 0.6889 - accuracy: 0.5363 - precision: 0.5370 - recall: 0.5267 - auc: 0.7822 - f1_score: 0.5857 - val_loss: 0.6766 - val_accuracy: 0.5516 - val_precision: 0.5507 - val_recall: 0.5497 - val_auc: 0.7996 - val_f1_score: 0.5035\n",
            "Epoch 13/50\n",
            "130/130 [==============================] - 189s 1s/step - loss: 0.6857 - accuracy: 0.5329 - precision: 0.5336 - recall: 0.5245 - auc: 0.7808 - f1_score: 0.5761 - val_loss: 0.6809 - val_accuracy: 0.5352 - val_precision: 0.5352 - val_recall: 0.5352 - val_auc: 0.8036 - val_f1_score: 0.4933\n",
            "Epoch 14/50\n",
            " 25/130 [====>.........................] - ETA: 2:18 - loss: 0.6773 - accuracy: 0.5683 - precision: 0.5698 - recall: 0.5683 - auc: 0.7976 - f1_score: 0.5143"
          ]
        }
      ]
    },
    {
      "metadata": {
        "id": "SHLdHnuuYobJ",
        "colab": {
          "base_uri": "https://localhost:8080/",
          "height": 294
        },
        "outputId": "bd5a066f-c94c-4ac4-adc5-3154e6143a29"
      },
      "cell_type": "code",
      "source": [
        "fig = plt.figure(figsize=(16,4))\n",
        "ax = fig.add_subplot(121)\n",
        "ax.plot(history.history[\"val_loss\"])\n",
        "ax.plot(history2.history[\"val_loss\"])\n",
        "ax.set_title(\"validation loss\")\n",
        "ax.set_xlabel(\"epochs\")\n",
        "\n",
        "ax2 = fig.add_subplot(122)\n",
        "ax2.plot(history.history[\"val_accuracy\"])\n",
        "ax2.plot(history2.history[\"val_accuracy\"])\n",
        "ax2.set_title(\"validation accuracy\")\n",
        "ax2.set_xlabel(\"epochs\")\n",
        "ax2.set_ylim(0, 1)\n",
        "\n",
        "plt.show()"
      ],
      "execution_count": null,
      "outputs": [
        {
          "output_type": "display_data",
          "data": {
            "image/png": "[encoded data removed]",
            "text/plain": [
              "<matplotlib.figure.Figure at 0x7f2332f62b00>"
            ]
          },
          "metadata": {
            "tags": []
          }
        }
      ]
    },
    {
      "metadata": {
        "id": "zMxC6Pd1YobN",
        "colab": {
          "base_uri": "https://localhost:8080/"
        },
        "outputId": "eb77f8b1-82bb-4b50-c7dd-309b44a1b77c"
      },
      "cell_type": "code",
      "source": [
        "result = ViT_model.evaluate(test_x, test_y, verbose=0)\n",
        "print('Test result:', result)"
      ],
      "execution_count": 105,
      "outputs": [
        {
          "output_type": "stream",
          "name": "stdout",
          "text": [
            "Test result: [1.137289047241211, 0.46875]\n"
          ]
        }
      ]
    },
    {
      "cell_type": "code",
      "source": [
        "# helper function to load image and return it and input vector\n",
        "def get_image(path):\n",
        "    img = image.load_img(path, target_size=(224, 224))\n",
        "    x = image.img_to_array(img)\n",
        "    x = np.expand_dims(x, axis=0)\n",
        "    x = preprocess_input(x)\n",
        "    return img, x"
      ],
      "metadata": {
        "id": "idxyxzu4gTTe"
      },
      "execution_count": null,
      "outputs": []
    },
    {
      "metadata": {
        "id": "YpRcsywEYobT",
        "colab": {
          "base_uri": "https://localhost:8080/",
          "height": 34
        },
        "outputId": "858eb7b8-f403-451c-83b9-7eda70671cfc"
      },
      "cell_type": "code",
      "source": [
        "img, x = get_image('101_ObjectCategories/airplanes/image_0003.jpg')\n",
        "probabilities = model_new.predict([x])\n"
      ],
      "execution_count": null,
      "outputs": [
        {
          "output_type": "stream",
          "text": [
            "0.6425913\n"
          ],
          "name": "stdout"
        }
      ]
    },
    {
      "cell_type": "markdown",
      "source": [
        "### Transfer Learning - Mamba Network (Work in Progress)"
      ],
      "metadata": {
        "id": "1MWynCq0gw5w"
      }
    },
    {
      "cell_type": "code",
      "source": [],
      "metadata": {
        "id": "Yh5SpwPGgztZ"
      },
      "execution_count": null,
      "outputs": []
    },
    {
      "cell_type": "code",
      "source": [],
      "metadata": {
        "id": "khIcuvOHgzqj"
      },
      "execution_count": null,
      "outputs": []
    },
    {
      "cell_type": "code",
      "source": [],
      "metadata": {
        "id": "d9tBEacUgzej"
      },
      "execution_count": null,
      "outputs": []
    },
    {
      "cell_type": "code",
      "source": [],
      "metadata": {
        "id": "e1S6xbU6gzcJ"
      },
      "execution_count": null,
      "outputs": []
    },
    {
      "cell_type": "code",
      "source": [],
      "metadata": {
        "id": "TbqdqXs8gy_p"
      },
      "execution_count": null,
      "outputs": []
    }
  ]
}